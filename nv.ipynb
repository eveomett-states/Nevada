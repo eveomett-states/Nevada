{
 "cells": [
  {
   "cell_type": "code",
   "execution_count": 1,
   "metadata": {},
   "outputs": [],
   "source": [
    "import pandas as pd\n",
    "import geopandas as gpd\n",
    "import maup\n",
    "import time\n",
    "from maup import smart_repair\n",
    "from gerrychain import Graph\n",
    "\n",
    "maup.progress.enabled = True"
   ]
  },
  {
   "cell_type": "code",
   "execution_count": 2,
   "metadata": {},
   "outputs": [],
   "source": [
    "import warnings\n",
    "warnings.filterwarnings(\"ignore\")"
   ]
  },
  {
   "cell_type": "code",
   "execution_count": 3,
   "metadata": {},
   "outputs": [],
   "source": [
    "# state = Nevada\n",
    "state_ab = \"nv\""
   ]
  },
  {
   "cell_type": "markdown",
   "metadata": {},
   "source": [
    "## Data\n",
    "1. Download all the data in directory \"nv_data\"\n",
    "2. Extract them all"
   ]
  },
  {
   "cell_type": "code",
   "execution_count": 4,
   "metadata": {},
   "outputs": [],
   "source": [
    "data_folder = state_ab + \"_data/\"\n",
    "population1_data = \"./{}{}_pl2020_b/{}_pl2020_p1_b.shp\".format(data_folder, state_ab, state_ab)\n",
    "population2_data = \"./{}{}_pl2020_b/{}_pl2020_p2_b.shp\".format(data_folder, state_ab, state_ab)\n",
    "vap_data =  \"./{}{}_pl2020_b/{}_pl2020_p4_b.shp\".format(data_folder, state_ab, state_ab)\n",
    "vest20_data = \"./{}{}_vest_20/{}_vest_20.shp\".format(data_folder, state_ab, state_ab)\n",
    "vest18_data = \"./{}{}_vest_18/{}_vest_18.shp\".format(data_folder, state_ab, state_ab)\n",
    "vest16_data = \"./{}{}_vest_16/{}_vest_16.shp\".format(data_folder, state_ab, state_ab)\n",
    "cd_data = \"./{}{}_cong_2021/nv_cong_2021.shp\".format(data_folder, state_ab)\n",
    "send_data = \"./{}{}_sldu_2021/nv_sldu_2021.shp\".format(data_folder, state_ab)\n",
    "hdist_data = \"./{}{}_sldl_2021/nv_sldl_2021.shp\".format(data_folder, state_ab)"
   ]
  },
  {
   "cell_type": "code",
   "execution_count": 5,
   "metadata": {},
   "outputs": [],
   "source": [
    "def do_smart_repair(df):\n",
    "    # change it to the UTM it needs for smart_repair\n",
    "    df = df.to_crs(df.estimate_utm_crs())\n",
    "    df = smart_repair(df)\n",
    "    if maup.doctor(df):\n",
    "        print('smart_repair successful')\n",
    "            \n",
    "        # change it back to this UTM for this data\n",
    "        df = df.to_crs('EPSG:4269')\n",
    "    else:\n",
    "        raise Exception('smart_repair failed')\n",
    "    return df"
   ]
  },
  {
   "cell_type": "code",
   "execution_count": 6,
   "metadata": {},
   "outputs": [],
   "source": [
    "def add_district(dist_df, dist_name, election_df, col_name):\n",
    "    # check if it needs to be smart_repair\n",
    "    if maup.doctor(dist_df) != True:\n",
    "        dist_df = do_smart_repair(dist_df)\n",
    "    \n",
    "    election_df = gpd.GeoDataFrame(election_df, crs=\"EPSG:4269\")\n",
    "    \n",
    "    # assign the pricincts\n",
    "    precincts_to_district_assignment = maup.assign(election_df.geometry, dist_df.geometry)\n",
    "    election_df[dist_name] = precincts_to_district_assignment\n",
    "    for precinct_index in range(len(election_df)):\n",
    "        election_df.at[precinct_index, dist_name] = dist_df.at[election_df.at[precinct_index, dist_name], col_name]\n",
    "    \n",
    "    return election_df"
   ]
  },
  {
   "cell_type": "code",
   "execution_count": 7,
   "metadata": {},
   "outputs": [],
   "source": [
    "def rename(original, year):\n",
    "    party = original[6]\n",
    "    if party == 'R' or party == 'D':\n",
    "        return original[3:6] + year + original[6]\n",
    "    else:\n",
    "        return original[3:6] + year + 'O'"
   ]
  },
  {
   "cell_type": "code",
   "execution_count": 8,
   "metadata": {},
   "outputs": [],
   "source": [
    "pop_col = ['TOTPOP', 'HISP', 'NH_WHITE', 'NH_BLACK', 'NH_AMIN', 'NH_ASIAN', 'NH_NHPI', 'NH_OTHER', 'NH_2MORE', 'H_WHITE', 'H_BLACK', 'H_AMIN', 'H_ASIAN', 'H_NHPI', 'H_OTHER', 'H_2MORE', 'VAP', 'HVAP', 'WVAP', 'BVAP', 'AMINVAP', 'ASIANVAP', 'NHPIVAP', 'OTHERVAP', '2MOREVAP']"
   ]
  },
  {
   "cell_type": "code",
   "execution_count": 9,
   "metadata": {},
   "outputs": [],
   "source": [
    "def check_population(population, df):\n",
    "    pop_check = pd.DataFrame({\n",
    "        'pop_col': pop_col,\n",
    "        'population_df': population[pop_col].sum(), \n",
    "        'vest_base': df[pop_col].sum(),\n",
    "        'equal': [x == y for x, y in zip(population[pop_col].sum(), df[pop_col].sum())]\n",
    "    })\n",
    "    if pop_check['equal'].mean() < 1:\n",
    "        print(pop_check)\n",
    "        raise Exception(\"population doesn't agree\")\n",
    "\n",
    "    else:\n",
    "        print(\"population agrees\")"
   ]
  },
  {
   "cell_type": "code",
   "execution_count": 10,
   "metadata": {},
   "outputs": [],
   "source": [
    "def add_vest(vest, df, year, population, start_col):    \n",
    "     # check if it needs to be smart_repair\n",
    "    if maup.doctor(vest) != True:\n",
    "        vest = do_smart_repair(vest)\n",
    "    \n",
    "    # rename the columns\n",
    "    original_col = vest.columns[start_col:-1]\n",
    "    new_col = [rename(i, year) for i in original_col]\n",
    "    rename_dict = dict(zip(original_col, new_col))\n",
    "    vest = vest.rename(columns=rename_dict)\n",
    "    vest = vest.groupby(level=0, axis=1).sum() # combine all the other party's vote into columns with sufix \"O\"\n",
    "    col_name = list(set(new_col))\n",
    "    col_name.sort()\n",
    "    \n",
    "    # make the blocks from precincts by weight\n",
    "    vest = gpd.GeoDataFrame(vest, crs=\"EPSG:4269\")\n",
    "    election_in_block = population[[\"VAP\", 'geometry']] # population_df is in block scale\n",
    "    blocks_to_precincts_assignment = maup.assign(election_in_block.geometry, vest.geometry)\n",
    "\n",
    "    weights = election_in_block[\"VAP\"] / blocks_to_precincts_assignment.map(election_in_block[\"VAP\"].groupby(blocks_to_precincts_assignment).sum())\n",
    "    weights = weights.fillna(0)\n",
    "    prorated = maup.prorate(blocks_to_precincts_assignment, vest[col_name], weights)\n",
    "    election_in_block[col_name] = prorated\n",
    "\n",
    "    # assign blocks to precincts\n",
    "    election_in_block = gpd.GeoDataFrame(election_in_block, crs=\"EPSG:4269\")\n",
    "    df = gpd.GeoDataFrame(df, crs=\"EPSG:4269\")\n",
    "    block_to_pricinct_assginment = maup.assign(election_in_block.geometry, df.geometry)\n",
    "    df[col_name] = election_in_block[col_name].groupby(block_to_pricinct_assginment).sum()\n",
    "    df = df.groupby(level=0, axis=1).sum()\n",
    "    \n",
    "    # check if population agrees\n",
    "    check_population(population, df)\n",
    "        \n",
    "    return df"
   ]
  },
  {
   "cell_type": "markdown",
   "metadata": {},
   "source": [
    "### Read the census data"
   ]
  },
  {
   "cell_type": "code",
   "execution_count": 11,
   "metadata": {},
   "outputs": [],
   "source": [
    "population1_df = gpd.read_file(population1_data)\n",
    "population2_df = gpd.read_file(population2_data)\n",
    "vap_df = gpd.read_file(vap_data)"
   ]
  },
  {
   "cell_type": "code",
   "execution_count": 12,
   "metadata": {},
   "outputs": [],
   "source": [
    "population2_df = population2_df.drop(columns=['SUMLEV', 'LOGRECNO', 'GEOID', 'COUNTY', 'geometry'])\n",
    "vap_df = vap_df.drop(columns=['SUMLEV', 'LOGRECNO', 'GEOID', 'COUNTY', 'geometry'])"
   ]
  },
  {
   "cell_type": "code",
   "execution_count": 13,
   "metadata": {},
   "outputs": [],
   "source": [
    "population_df = pd.merge(population1_df, population2_df, on='GEOID20')\n",
    "population_df = pd.merge(population_df, vap_df, on='GEOID20')"
   ]
  },
  {
   "cell_type": "code",
   "execution_count": 14,
   "metadata": {},
   "outputs": [
    {
     "name": "stderr",
     "output_type": "stream",
     "text": [
      "100%|██████████| 57409/57409 [02:43<00:00, 350.68it/s]\n"
     ]
    },
    {
     "data": {
      "text/plain": [
       "True"
      ]
     },
     "execution_count": 14,
     "metadata": {},
     "output_type": "execute_result"
    }
   ],
   "source": [
    "maup.doctor(population_df)"
   ]
  },
  {
   "cell_type": "code",
   "execution_count": 15,
   "metadata": {},
   "outputs": [],
   "source": [
    "population_df['H_WHITE'] = population_df.apply(lambda t: t['P0010003'] - t['P0020005'], 1)\n",
    "population_df['H_BLACK'] = population_df.apply(lambda t: t['P0010004'] - t['P0020006'], 1)\n",
    "population_df['H_AMIN'] = population_df.apply(lambda t: t['P0010005'] - t['P0020007'], 1)\n",
    "population_df['H_ASIAN'] = population_df.apply(lambda t: t['P0010006'] - t['P0020008'], 1)\n",
    "population_df['H_NHPI'] = population_df.apply(lambda t: t['P0010007'] - t['P0020009'], 1)\n",
    "population_df['H_OTHER'] = population_df.apply(lambda t: t['P0010008'] - t['P0020010'], 1)\n",
    "population_df['H_2MORE'] = population_df.apply(lambda t: t['P0010009'] - t['P0020011'], 1)"
   ]
  },
  {
   "cell_type": "code",
   "execution_count": 16,
   "metadata": {},
   "outputs": [],
   "source": [
    "rename_dict = {'P0020001': 'TOTPOP', 'P0020002': 'HISP', 'P0020005': 'NH_WHITE', 'P0020006': 'NH_BLACK', 'P0020007': 'NH_AMIN',\n",
    "                    'P0020008': 'NH_ASIAN', 'P0020009': 'NH_NHPI', 'P0020010': 'NH_OTHER', 'P0020011': 'NH_2MORE',\n",
    "                    'P0040001': 'VAP', 'P0040002': 'HVAP', 'P0040005': 'WVAP', 'P0040006': 'BVAP', 'P0040007': 'AMINVAP',\n",
    "                                        'P0040008': 'ASIANVAP', 'P0040009': 'NHPIVAP', 'P0040010': 'OTHERVAP', 'P0040011': '2MOREVAP'}"
   ]
  },
  {
   "cell_type": "code",
   "execution_count": 17,
   "metadata": {},
   "outputs": [],
   "source": [
    "population_df.rename(columns=rename_dict, inplace = True)"
   ]
  },
  {
   "cell_type": "code",
   "execution_count": 18,
   "metadata": {},
   "outputs": [
    {
     "name": "stderr",
     "output_type": "stream",
     "text": [
      "100%|██████████| 4/4 [00:00<00:00, 38.08it/s]\n"
     ]
    }
   ],
   "source": [
    "cong_df = gpd.read_file(cd_data)\n",
    "if maup.doctor(cong_df) != True:\n",
    "    cong_df = do_smart_repair(cong_df)"
   ]
  },
  {
   "cell_type": "markdown",
   "metadata": {},
   "source": [
    "## Read the vest 20 data\n",
    "\n",
    "Now using it as a \"base pricinct\""
   ]
  },
  {
   "cell_type": "code",
   "execution_count": 19,
   "metadata": {},
   "outputs": [],
   "source": [
    "def add_vest_base(vest, start_col, year):\n",
    "    original_col = vest.columns[start_col:-1]\n",
    "    new_col = [rename(i, year) for i in original_col]\n",
    "    rename_dict = dict(zip(original_col, new_col))\n",
    "    vest = vest.rename(columns=rename_dict)\n",
    "    vest = vest.groupby(level=0, axis=1).sum()\n",
    "    vest = gpd.GeoDataFrame(vest, crs=\"EPSG:4269\")\n",
    "    \n",
    "    return vest"
   ]
  },
  {
   "cell_type": "markdown",
   "metadata": {},
   "source": [
    "## Check if vest20 can be used as base"
   ]
  },
  {
   "cell_type": "code",
   "execution_count": 20,
   "metadata": {},
   "outputs": [
    {
     "name": "stderr",
     "output_type": "stream",
     "text": [
      "100%|██████████| 2094/2094 [00:07<00:00, 276.38it/s]\n"
     ]
    },
    {
     "name": "stdout",
     "output_type": "stream",
     "text": [
      "There are 763 overlaps.\n",
      "There are 2293 holes.\n",
      "Snapping all geometries to a grid with precision 10^( -5 ) to avoid GEOS errors.\n",
      "Identifying overlaps...\n"
     ]
    },
    {
     "name": "stderr",
     "output_type": "stream",
     "text": [
      "100%|██████████| 8724/8724 [00:14<00:00, 619.00it/s] \n"
     ]
    },
    {
     "name": "stdout",
     "output_type": "stream",
     "text": [
      "Resolving overlaps...\n",
      "Assigning order 2 pieces...\n",
      "Assigning order 3 pieces...\n",
      "Filling gaps...\n"
     ]
    },
    {
     "name": "stderr",
     "output_type": "stream",
     "text": [
      "Gaps to simplify: 3349it [20:51,  2.68it/s]                              \n",
      "Gaps to fill: 100%|██████████| 291/291 [01:23<00:00,  3.48it/s]\n",
      "100%|██████████| 2094/2094 [00:02<00:00, 735.97it/s] \n"
     ]
    },
    {
     "name": "stdout",
     "output_type": "stream",
     "text": [
      "smart_repair successful\n"
     ]
    }
   ],
   "source": [
    "vest20 = gpd.read_file(vest20_data)\n",
    "if maup.doctor(vest20) != True:\n",
    "    vest20 = do_smart_repair(vest20)"
   ]
  },
  {
   "cell_type": "code",
   "execution_count": 21,
   "metadata": {},
   "outputs": [
    {
     "data": {
      "text/plain": [
       "Index(['STATEFP', 'COUNTYFP', 'COUNTY', 'VTDST', 'NAME', 'G20PREDBID',\n",
       "       'G20PRERTRU', 'G20PRELJOR', 'G20PREIBLA', 'G20PREONON', 'geometry'],\n",
       "      dtype='object')"
      ]
     },
     "execution_count": 21,
     "metadata": {},
     "output_type": "execute_result"
    }
   ],
   "source": [
    "vest20.columns"
   ]
  },
  {
   "cell_type": "code",
   "execution_count": 22,
   "metadata": {},
   "outputs": [],
   "source": [
    "start_col = 5\n",
    "vest_base_data = vest20\n",
    "year = '20'"
   ]
  },
  {
   "cell_type": "code",
   "execution_count": 23,
   "metadata": {},
   "outputs": [],
   "source": [
    "vest_base = add_vest_base(vest_base_data, start_col, year)"
   ]
  },
  {
   "cell_type": "code",
   "execution_count": 24,
   "metadata": {},
   "outputs": [
    {
     "name": "stderr",
     "output_type": "stream",
     "text": [
      "100%|██████████| 2094/2094 [00:02<00:00, 791.08it/s] \n",
      "100%|██████████| 2094/2094 [00:09<00:00, 215.03it/s]\n"
     ]
    }
   ],
   "source": [
    "# vap and population have the same GEOID20\n",
    "blocks_to_precincts_assignment = maup.assign(population_df.geometry, vest_base.geometry)"
   ]
  },
  {
   "cell_type": "code",
   "execution_count": 25,
   "metadata": {},
   "outputs": [],
   "source": [
    "vest_base[pop_col] = population_df[pop_col].groupby(blocks_to_precincts_assignment).sum()"
   ]
  },
  {
   "cell_type": "code",
   "execution_count": 26,
   "metadata": {},
   "outputs": [],
   "source": [
    "election_df = gpd.GeoDataFrame(vest_base, crs=\"EPSG:4269\")"
   ]
  },
  {
   "cell_type": "code",
   "execution_count": 27,
   "metadata": {},
   "outputs": [
    {
     "data": {
      "text/plain": [
       "Index(['COUNTY', 'COUNTYFP', 'NAME', 'PRE20D', 'PRE20O', 'PRE20R', 'STATEFP',\n",
       "       'VTDST', 'geometry', 'TOTPOP', 'HISP', 'NH_WHITE', 'NH_BLACK',\n",
       "       'NH_AMIN', 'NH_ASIAN', 'NH_NHPI', 'NH_OTHER', 'NH_2MORE', 'H_WHITE',\n",
       "       'H_BLACK', 'H_AMIN', 'H_ASIAN', 'H_NHPI', 'H_OTHER', 'H_2MORE', 'VAP',\n",
       "       'HVAP', 'WVAP', 'BVAP', 'AMINVAP', 'ASIANVAP', 'NHPIVAP', 'OTHERVAP',\n",
       "       '2MOREVAP'],\n",
       "      dtype='object')"
      ]
     },
     "execution_count": 27,
     "metadata": {},
     "output_type": "execute_result"
    }
   ],
   "source": [
    "election_df.columns"
   ]
  },
  {
   "cell_type": "markdown",
   "metadata": {},
   "source": [
    "## Check if population agrees"
   ]
  },
  {
   "cell_type": "code",
   "execution_count": 28,
   "metadata": {},
   "outputs": [
    {
     "data": {
      "text/html": [
       "<div>\n",
       "<style scoped>\n",
       "    .dataframe tbody tr th:only-of-type {\n",
       "        vertical-align: middle;\n",
       "    }\n",
       "\n",
       "    .dataframe tbody tr th {\n",
       "        vertical-align: top;\n",
       "    }\n",
       "\n",
       "    .dataframe thead th {\n",
       "        text-align: right;\n",
       "    }\n",
       "</style>\n",
       "<table border=\"1\" class=\"dataframe\">\n",
       "  <thead>\n",
       "    <tr style=\"text-align: right;\">\n",
       "      <th></th>\n",
       "      <th>pop_col</th>\n",
       "      <th>population_df</th>\n",
       "      <th>vest_base</th>\n",
       "      <th>equal</th>\n",
       "    </tr>\n",
       "  </thead>\n",
       "  <tbody>\n",
       "    <tr>\n",
       "      <th>TOTPOP</th>\n",
       "      <td>TOTPOP</td>\n",
       "      <td>3104614</td>\n",
       "      <td>3104614.0</td>\n",
       "      <td>True</td>\n",
       "    </tr>\n",
       "    <tr>\n",
       "      <th>HISP</th>\n",
       "      <td>HISP</td>\n",
       "      <td>890257</td>\n",
       "      <td>890257.0</td>\n",
       "      <td>True</td>\n",
       "    </tr>\n",
       "    <tr>\n",
       "      <th>NH_WHITE</th>\n",
       "      <td>NH_WHITE</td>\n",
       "      <td>1425952</td>\n",
       "      <td>1425952.0</td>\n",
       "      <td>True</td>\n",
       "    </tr>\n",
       "    <tr>\n",
       "      <th>NH_BLACK</th>\n",
       "      <td>NH_BLACK</td>\n",
       "      <td>291960</td>\n",
       "      <td>291960.0</td>\n",
       "      <td>True</td>\n",
       "    </tr>\n",
       "    <tr>\n",
       "      <th>NH_AMIN</th>\n",
       "      <td>NH_AMIN</td>\n",
       "      <td>23392</td>\n",
       "      <td>23392.0</td>\n",
       "      <td>True</td>\n",
       "    </tr>\n",
       "    <tr>\n",
       "      <th>NH_ASIAN</th>\n",
       "      <td>NH_ASIAN</td>\n",
       "      <td>265991</td>\n",
       "      <td>265991.0</td>\n",
       "      <td>True</td>\n",
       "    </tr>\n",
       "    <tr>\n",
       "      <th>NH_NHPI</th>\n",
       "      <td>NH_NHPI</td>\n",
       "      <td>22970</td>\n",
       "      <td>22970.0</td>\n",
       "      <td>True</td>\n",
       "    </tr>\n",
       "    <tr>\n",
       "      <th>NH_OTHER</th>\n",
       "      <td>NH_OTHER</td>\n",
       "      <td>17171</td>\n",
       "      <td>17171.0</td>\n",
       "      <td>True</td>\n",
       "    </tr>\n",
       "    <tr>\n",
       "      <th>NH_2MORE</th>\n",
       "      <td>NH_2MORE</td>\n",
       "      <td>166921</td>\n",
       "      <td>166921.0</td>\n",
       "      <td>True</td>\n",
       "    </tr>\n",
       "    <tr>\n",
       "      <th>H_WHITE</th>\n",
       "      <td>H_WHITE</td>\n",
       "      <td>162511</td>\n",
       "      <td>162511.0</td>\n",
       "      <td>True</td>\n",
       "    </tr>\n",
       "    <tr>\n",
       "      <th>H_BLACK</th>\n",
       "      <td>H_BLACK</td>\n",
       "      <td>12779</td>\n",
       "      <td>12779.0</td>\n",
       "      <td>True</td>\n",
       "    </tr>\n",
       "    <tr>\n",
       "      <th>H_AMIN</th>\n",
       "      <td>H_AMIN</td>\n",
       "      <td>20540</td>\n",
       "      <td>20540.0</td>\n",
       "      <td>True</td>\n",
       "    </tr>\n",
       "    <tr>\n",
       "      <th>H_ASIAN</th>\n",
       "      <td>H_ASIAN</td>\n",
       "      <td>6712</td>\n",
       "      <td>6712.0</td>\n",
       "      <td>True</td>\n",
       "    </tr>\n",
       "    <tr>\n",
       "      <th>H_NHPI</th>\n",
       "      <td>H_NHPI</td>\n",
       "      <td>2041</td>\n",
       "      <td>2041.0</td>\n",
       "      <td>True</td>\n",
       "    </tr>\n",
       "    <tr>\n",
       "      <th>H_OTHER</th>\n",
       "      <td>H_OTHER</td>\n",
       "      <td>418586</td>\n",
       "      <td>418586.0</td>\n",
       "      <td>True</td>\n",
       "    </tr>\n",
       "    <tr>\n",
       "      <th>H_2MORE</th>\n",
       "      <td>H_2MORE</td>\n",
       "      <td>267088</td>\n",
       "      <td>267088.0</td>\n",
       "      <td>True</td>\n",
       "    </tr>\n",
       "    <tr>\n",
       "      <th>VAP</th>\n",
       "      <td>VAP</td>\n",
       "      <td>2413326</td>\n",
       "      <td>2413326.0</td>\n",
       "      <td>True</td>\n",
       "    </tr>\n",
       "    <tr>\n",
       "      <th>HVAP</th>\n",
       "      <td>HVAP</td>\n",
       "      <td>609396</td>\n",
       "      <td>609396.0</td>\n",
       "      <td>True</td>\n",
       "    </tr>\n",
       "    <tr>\n",
       "      <th>WVAP</th>\n",
       "      <td>WVAP</td>\n",
       "      <td>1205651</td>\n",
       "      <td>1205651.0</td>\n",
       "      <td>True</td>\n",
       "    </tr>\n",
       "    <tr>\n",
       "      <th>BVAP</th>\n",
       "      <td>BVAP</td>\n",
       "      <td>219333</td>\n",
       "      <td>219333.0</td>\n",
       "      <td>True</td>\n",
       "    </tr>\n",
       "    <tr>\n",
       "      <th>AMINVAP</th>\n",
       "      <td>AMINVAP</td>\n",
       "      <td>18317</td>\n",
       "      <td>18317.0</td>\n",
       "      <td>True</td>\n",
       "    </tr>\n",
       "    <tr>\n",
       "      <th>ASIANVAP</th>\n",
       "      <td>ASIANVAP</td>\n",
       "      <td>224400</td>\n",
       "      <td>224400.0</td>\n",
       "      <td>True</td>\n",
       "    </tr>\n",
       "    <tr>\n",
       "      <th>NHPIVAP</th>\n",
       "      <td>NHPIVAP</td>\n",
       "      <td>17118</td>\n",
       "      <td>17118.0</td>\n",
       "      <td>True</td>\n",
       "    </tr>\n",
       "    <tr>\n",
       "      <th>OTHERVAP</th>\n",
       "      <td>OTHERVAP</td>\n",
       "      <td>12441</td>\n",
       "      <td>12441.0</td>\n",
       "      <td>True</td>\n",
       "    </tr>\n",
       "    <tr>\n",
       "      <th>2MOREVAP</th>\n",
       "      <td>2MOREVAP</td>\n",
       "      <td>106670</td>\n",
       "      <td>106670.0</td>\n",
       "      <td>True</td>\n",
       "    </tr>\n",
       "  </tbody>\n",
       "</table>\n",
       "</div>"
      ],
      "text/plain": [
       "           pop_col  population_df  vest_base  equal\n",
       "TOTPOP      TOTPOP        3104614  3104614.0   True\n",
       "HISP          HISP         890257   890257.0   True\n",
       "NH_WHITE  NH_WHITE        1425952  1425952.0   True\n",
       "NH_BLACK  NH_BLACK         291960   291960.0   True\n",
       "NH_AMIN    NH_AMIN          23392    23392.0   True\n",
       "NH_ASIAN  NH_ASIAN         265991   265991.0   True\n",
       "NH_NHPI    NH_NHPI          22970    22970.0   True\n",
       "NH_OTHER  NH_OTHER          17171    17171.0   True\n",
       "NH_2MORE  NH_2MORE         166921   166921.0   True\n",
       "H_WHITE    H_WHITE         162511   162511.0   True\n",
       "H_BLACK    H_BLACK          12779    12779.0   True\n",
       "H_AMIN      H_AMIN          20540    20540.0   True\n",
       "H_ASIAN    H_ASIAN           6712     6712.0   True\n",
       "H_NHPI      H_NHPI           2041     2041.0   True\n",
       "H_OTHER    H_OTHER         418586   418586.0   True\n",
       "H_2MORE    H_2MORE         267088   267088.0   True\n",
       "VAP            VAP        2413326  2413326.0   True\n",
       "HVAP          HVAP         609396   609396.0   True\n",
       "WVAP          WVAP        1205651  1205651.0   True\n",
       "BVAP          BVAP         219333   219333.0   True\n",
       "AMINVAP    AMINVAP          18317    18317.0   True\n",
       "ASIANVAP  ASIANVAP         224400   224400.0   True\n",
       "NHPIVAP    NHPIVAP          17118    17118.0   True\n",
       "OTHERVAP  OTHERVAP          12441    12441.0   True\n",
       "2MOREVAP  2MOREVAP         106670   106670.0   True"
      ]
     },
     "execution_count": 28,
     "metadata": {},
     "output_type": "execute_result"
    }
   ],
   "source": [
    "pd.DataFrame({\n",
    "    'pop_col': pop_col,\n",
    "    'population_df': population_df[pop_col].sum(), \n",
    "    'vest_base': vest_base[pop_col].sum(),\n",
    "    'equal': [x == y for x, y in zip(population_df[pop_col].sum(), vest_base[pop_col].sum())]\n",
    "})"
   ]
  },
  {
   "cell_type": "markdown",
   "metadata": {},
   "source": [
    "## Add more vest data"
   ]
  },
  {
   "cell_type": "code",
   "execution_count": 29,
   "metadata": {},
   "outputs": [],
   "source": [
    "vest18 = gpd.read_file(vest18_data)\n",
    "vest16 = gpd.read_file(vest16_data)"
   ]
  },
  {
   "cell_type": "code",
   "execution_count": 30,
   "metadata": {},
   "outputs": [
    {
     "data": {
      "text/plain": [
       "Index(['STATEFP', 'COUNTYFP', 'VTDST', 'NAME', 'G18USSDROS', 'G18USSRHEL',\n",
       "       'G18USSLHAG', 'G18USSIBAK', 'G18USSNMIC', 'G18USSONON', 'G18GOVDSIS',\n",
       "       'G18GOVRLAX', 'G18GOVLLOR', 'G18GOVIBES', 'G18GOVNBUN', 'G18GOVONON',\n",
       "       'G18LTGDMAR', 'G18LTGRROB', 'G18LTGIHAN', 'G18LTGNUEH', 'G18LTGONON',\n",
       "       'G18ATGDFOR', 'G18ATGRDUN', 'G18ATGIHAN', 'G18ATGONON', 'G18SOSDARA',\n",
       "       'G18SOSRCEG', 'G18SOSONON', 'G18TREDCON', 'G18TRERBEE', 'G18TREIHOG',\n",
       "       'G18TREONON', 'G18CONDBYR', 'G18CONRKNE', 'G18CONONON', 'geometry'],\n",
       "      dtype='object')"
      ]
     },
     "execution_count": 30,
     "metadata": {},
     "output_type": "execute_result"
    }
   ],
   "source": [
    "vest18.columns"
   ]
  },
  {
   "cell_type": "code",
   "execution_count": 31,
   "metadata": {},
   "outputs": [
    {
     "data": {
      "text/plain": [
       "Index(['COUNTYFP', 'NAME', 'G16PREDCLI', 'G16PRERTRU', 'G16PRELJOH',\n",
       "       'G16PREICAS', 'G16PRENROC', 'G16PREONON', 'G16USSDCOR', 'G16USSRHEC',\n",
       "       'G16USSIJON', 'G16USSNSAW', 'G16USSNGUM', 'G16USSNWIL', 'G16USSONON',\n",
       "       'geometry'],\n",
       "      dtype='object')"
      ]
     },
     "execution_count": 31,
     "metadata": {},
     "output_type": "execute_result"
    }
   ],
   "source": [
    "vest16.columns"
   ]
  },
  {
   "cell_type": "code",
   "execution_count": 32,
   "metadata": {},
   "outputs": [
    {
     "name": "stderr",
     "output_type": "stream",
     "text": [
      "100%|██████████| 2071/2071 [00:03<00:00, 689.91it/s] \n"
     ]
    },
    {
     "name": "stdout",
     "output_type": "stream",
     "text": [
      "There are 334 overlaps.\n",
      "There are 2063 holes.\n",
      "There are some invalid geometries.\n",
      "Snapping all geometries to a grid with precision 10^( -5 ) to avoid GEOS errors.\n",
      "Identifying overlaps...\n"
     ]
    },
    {
     "name": "stderr",
     "output_type": "stream",
     "text": [
      "100%|██████████| 7294/7294 [00:05<00:00, 1419.24it/s]\n"
     ]
    },
    {
     "name": "stdout",
     "output_type": "stream",
     "text": [
      "Resolving overlaps...\n",
      "Assigning order 2 pieces...\n",
      "Assigning order 3 pieces...\n",
      "Filling gaps...\n"
     ]
    },
    {
     "name": "stderr",
     "output_type": "stream",
     "text": [
      "Gaps to simplify: 2467it [15:17,  2.69it/s]                             \n",
      "Gaps to fill: 100%|██████████| 123/123 [00:35<00:00,  3.43it/s]\n",
      "100%|██████████| 2071/2071 [00:02<00:00, 726.01it/s] \n"
     ]
    },
    {
     "name": "stdout",
     "output_type": "stream",
     "text": [
      "smart_repair successful\n"
     ]
    },
    {
     "name": "stderr",
     "output_type": "stream",
     "text": [
      "100%|██████████| 2071/2071 [00:02<00:00, 757.86it/s] \n",
      "100%|██████████| 2071/2071 [00:09<00:00, 218.18it/s]\n",
      "100%|██████████| 2094/2094 [00:02<00:00, 763.17it/s] \n",
      "100%|██████████| 2094/2094 [00:09<00:00, 216.06it/s]\n"
     ]
    },
    {
     "name": "stdout",
     "output_type": "stream",
     "text": [
      "population agrees\n"
     ]
    }
   ],
   "source": [
    "# check the result here\n",
    "election_df = add_vest(vest18, election_df, '18', population_df, 4)"
   ]
  },
  {
   "cell_type": "code",
   "execution_count": 33,
   "metadata": {},
   "outputs": [
    {
     "data": {
      "text/plain": [
       "Index(['2MOREVAP', 'AMINVAP', 'ASIANVAP', 'ATG18D', 'ATG18O', 'ATG18R', 'BVAP',\n",
       "       'CON18D', 'CON18O', 'CON18R', 'COUNTY', 'COUNTYFP', 'GOV18D', 'GOV18O',\n",
       "       'GOV18R', 'HISP', 'HVAP', 'H_2MORE', 'H_AMIN', 'H_ASIAN', 'H_BLACK',\n",
       "       'H_NHPI', 'H_OTHER', 'H_WHITE', 'LTG18D', 'LTG18O', 'LTG18R', 'NAME',\n",
       "       'NHPIVAP', 'NH_2MORE', 'NH_AMIN', 'NH_ASIAN', 'NH_BLACK', 'NH_NHPI',\n",
       "       'NH_OTHER', 'NH_WHITE', 'OTHERVAP', 'PRE20D', 'PRE20O', 'PRE20R',\n",
       "       'SOS18D', 'SOS18O', 'SOS18R', 'STATEFP', 'TOTPOP', 'TRE18D', 'TRE18O',\n",
       "       'TRE18R', 'USS18D', 'USS18O', 'USS18R', 'VAP', 'VTDST', 'WVAP',\n",
       "       'geometry'],\n",
       "      dtype='object')"
      ]
     },
     "execution_count": 33,
     "metadata": {},
     "output_type": "execute_result"
    }
   ],
   "source": [
    "election_df.columns"
   ]
  },
  {
   "cell_type": "code",
   "execution_count": 34,
   "metadata": {},
   "outputs": [
    {
     "name": "stderr",
     "output_type": "stream",
     "text": [
      "100%|██████████| 2067/2067 [00:03<00:00, 659.58it/s] \n"
     ]
    },
    {
     "name": "stdout",
     "output_type": "stream",
     "text": [
      "There are 426 overlaps.\n",
      "There are 2386 holes.\n",
      "There are some invalid geometries.\n",
      "Snapping all geometries to a grid with precision 10^( -5 ) to avoid GEOS errors.\n",
      "Identifying overlaps...\n"
     ]
    },
    {
     "name": "stderr",
     "output_type": "stream",
     "text": [
      "100%|██████████| 8143/8143 [00:06<00:00, 1233.33it/s]\n"
     ]
    },
    {
     "name": "stdout",
     "output_type": "stream",
     "text": [
      "Resolving overlaps...\n",
      "Assigning order 2 pieces...\n",
      "Assigning order 3 pieces...\n",
      "Filling gaps...\n"
     ]
    },
    {
     "name": "stderr",
     "output_type": "stream",
     "text": [
      "Gaps to simplify: 2855it [58:06,  1.22s/it]                              \n",
      "Gaps to fill: 100%|██████████| 217/217 [01:02<00:00,  3.45it/s]\n",
      "100%|██████████| 2067/2067 [00:02<00:00, 741.17it/s] \n"
     ]
    },
    {
     "name": "stdout",
     "output_type": "stream",
     "text": [
      "smart_repair successful\n"
     ]
    },
    {
     "name": "stderr",
     "output_type": "stream",
     "text": [
      "100%|██████████| 2067/2067 [00:02<00:00, 794.71it/s] \n",
      "100%|██████████| 2067/2067 [00:09<00:00, 214.16it/s]\n",
      "100%|██████████| 2094/2094 [00:02<00:00, 812.44it/s] \n",
      "100%|██████████| 2094/2094 [00:09<00:00, 215.47it/s]\n"
     ]
    },
    {
     "name": "stdout",
     "output_type": "stream",
     "text": [
      "population agrees\n"
     ]
    }
   ],
   "source": [
    "election_df = add_vest(vest16, election_df, '16', population_df, 2)"
   ]
  },
  {
   "cell_type": "markdown",
   "metadata": {},
   "source": [
    "##  Add the district data"
   ]
  },
  {
   "cell_type": "code",
   "execution_count": 35,
   "metadata": {},
   "outputs": [],
   "source": [
    "send = gpd.read_file(send_data)\n",
    "hdist = gpd.read_file(hdist_data)"
   ]
  },
  {
   "cell_type": "code",
   "execution_count": 36,
   "metadata": {},
   "outputs": [
    {
     "data": {
      "text/html": [
       "<div>\n",
       "<style scoped>\n",
       "    .dataframe tbody tr th:only-of-type {\n",
       "        vertical-align: middle;\n",
       "    }\n",
       "\n",
       "    .dataframe tbody tr th {\n",
       "        vertical-align: top;\n",
       "    }\n",
       "\n",
       "    .dataframe thead th {\n",
       "        text-align: right;\n",
       "    }\n",
       "</style>\n",
       "<table border=\"1\" class=\"dataframe\">\n",
       "  <thead>\n",
       "    <tr style=\"text-align: right;\">\n",
       "      <th></th>\n",
       "      <th>DISTRICTNO</th>\n",
       "      <th>ADJPOP</th>\n",
       "      <th>TAWHITEALN</th>\n",
       "      <th>TABLACKCMB</th>\n",
       "      <th>TAAIANCMB</th>\n",
       "      <th>TAASIANCMB</th>\n",
       "      <th>TANHOPICMB</th>\n",
       "      <th>TAOTHERALN</th>\n",
       "      <th>TA2RACE</th>\n",
       "      <th>TAHISPANIC</th>\n",
       "      <th>...</th>\n",
       "      <th>AG18_OTH</th>\n",
       "      <th>SOS18_TOTA</th>\n",
       "      <th>SOS18_DEM</th>\n",
       "      <th>SOS18_REP</th>\n",
       "      <th>SOS18_OTH</th>\n",
       "      <th>PRES16_TOT</th>\n",
       "      <th>PRES16_DEM</th>\n",
       "      <th>PRES16_REP</th>\n",
       "      <th>PRES16_OTH</th>\n",
       "      <th>geometry</th>\n",
       "    </tr>\n",
       "  </thead>\n",
       "  <tbody>\n",
       "    <tr>\n",
       "      <th>0</th>\n",
       "      <td>1.0</td>\n",
       "      <td>776153.0</td>\n",
       "      <td>354538.0</td>\n",
       "      <td>100814.0</td>\n",
       "      <td>23644.0</td>\n",
       "      <td>79806.0</td>\n",
       "      <td>12570.0</td>\n",
       "      <td>141719.0</td>\n",
       "      <td>119860.0</td>\n",
       "      <td>278903.0</td>\n",
       "      <td>...</td>\n",
       "      <td>12355.0</td>\n",
       "      <td>217447.0</td>\n",
       "      <td>112752.0</td>\n",
       "      <td>98140.0</td>\n",
       "      <td>6561.0</td>\n",
       "      <td>262162.0</td>\n",
       "      <td>136328.0</td>\n",
       "      <td>110157.0</td>\n",
       "      <td>15675.0</td>\n",
       "      <td>POLYGON ((-115.21639 35.89728, -115.21362 35.9...</td>\n",
       "    </tr>\n",
       "    <tr>\n",
       "      <th>1</th>\n",
       "      <td>2.0</td>\n",
       "      <td>776154.0</td>\n",
       "      <td>525157.0</td>\n",
       "      <td>25210.0</td>\n",
       "      <td>38061.0</td>\n",
       "      <td>48366.0</td>\n",
       "      <td>8339.0</td>\n",
       "      <td>83727.0</td>\n",
       "      <td>95806.0</td>\n",
       "      <td>179909.0</td>\n",
       "      <td>...</td>\n",
       "      <td>21133.0</td>\n",
       "      <td>296142.0</td>\n",
       "      <td>121192.0</td>\n",
       "      <td>166905.0</td>\n",
       "      <td>8050.0</td>\n",
       "      <td>332733.0</td>\n",
       "      <td>130319.0</td>\n",
       "      <td>174874.0</td>\n",
       "      <td>27546.0</td>\n",
       "      <td>POLYGON ((-120.00430 39.16560, -120.00443 39.1...</td>\n",
       "    </tr>\n",
       "    <tr>\n",
       "      <th>2</th>\n",
       "      <td>3.0</td>\n",
       "      <td>776153.0</td>\n",
       "      <td>373902.0</td>\n",
       "      <td>98120.0</td>\n",
       "      <td>18587.0</td>\n",
       "      <td>163953.0</td>\n",
       "      <td>18203.0</td>\n",
       "      <td>70274.0</td>\n",
       "      <td>102932.0</td>\n",
       "      <td>164069.0</td>\n",
       "      <td>...</td>\n",
       "      <td>12256.0</td>\n",
       "      <td>233159.0</td>\n",
       "      <td>118435.0</td>\n",
       "      <td>108595.0</td>\n",
       "      <td>6147.0</td>\n",
       "      <td>275077.0</td>\n",
       "      <td>138958.0</td>\n",
       "      <td>120464.0</td>\n",
       "      <td>15654.0</td>\n",
       "      <td>POLYGON ((-115.84581 36.12024, -115.84581 36.1...</td>\n",
       "    </tr>\n",
       "    <tr>\n",
       "      <th>3</th>\n",
       "      <td>4.0</td>\n",
       "      <td>776154.0</td>\n",
       "      <td>334866.0</td>\n",
       "      <td>151054.0</td>\n",
       "      <td>25498.0</td>\n",
       "      <td>61468.0</td>\n",
       "      <td>13420.0</td>\n",
       "      <td>140037.0</td>\n",
       "      <td>115411.0</td>\n",
       "      <td>267376.0</td>\n",
       "      <td>...</td>\n",
       "      <td>12071.0</td>\n",
       "      <td>209709.0</td>\n",
       "      <td>109055.0</td>\n",
       "      <td>94189.0</td>\n",
       "      <td>6436.0</td>\n",
       "      <td>252072.0</td>\n",
       "      <td>131689.0</td>\n",
       "      <td>105379.0</td>\n",
       "      <td>15001.0</td>\n",
       "      <td>POLYGON ((-119.34759 38.80106, -119.34758 38.8...</td>\n",
       "    </tr>\n",
       "  </tbody>\n",
       "</table>\n",
       "<p>4 rows × 33 columns</p>\n",
       "</div>"
      ],
      "text/plain": [
       "   DISTRICTNO    ADJPOP  TAWHITEALN  TABLACKCMB  TAAIANCMB  TAASIANCMB  \\\n",
       "0         1.0  776153.0    354538.0    100814.0    23644.0     79806.0   \n",
       "1         2.0  776154.0    525157.0     25210.0    38061.0     48366.0   \n",
       "2         3.0  776153.0    373902.0     98120.0    18587.0    163953.0   \n",
       "3         4.0  776154.0    334866.0    151054.0    25498.0     61468.0   \n",
       "\n",
       "   TANHOPICMB  TAOTHERALN   TA2RACE  TAHISPANIC  ...  AG18_OTH  SOS18_TOTA  \\\n",
       "0     12570.0    141719.0  119860.0    278903.0  ...   12355.0    217447.0   \n",
       "1      8339.0     83727.0   95806.0    179909.0  ...   21133.0    296142.0   \n",
       "2     18203.0     70274.0  102932.0    164069.0  ...   12256.0    233159.0   \n",
       "3     13420.0    140037.0  115411.0    267376.0  ...   12071.0    209709.0   \n",
       "\n",
       "   SOS18_DEM  SOS18_REP  SOS18_OTH  PRES16_TOT  PRES16_DEM  PRES16_REP  \\\n",
       "0   112752.0    98140.0     6561.0    262162.0    136328.0    110157.0   \n",
       "1   121192.0   166905.0     8050.0    332733.0    130319.0    174874.0   \n",
       "2   118435.0   108595.0     6147.0    275077.0    138958.0    120464.0   \n",
       "3   109055.0    94189.0     6436.0    252072.0    131689.0    105379.0   \n",
       "\n",
       "   PRES16_OTH                                           geometry  \n",
       "0     15675.0  POLYGON ((-115.21639 35.89728, -115.21362 35.9...  \n",
       "1     27546.0  POLYGON ((-120.00430 39.16560, -120.00443 39.1...  \n",
       "2     15654.0  POLYGON ((-115.84581 36.12024, -115.84581 36.1...  \n",
       "3     15001.0  POLYGON ((-119.34759 38.80106, -119.34758 38.8...  \n",
       "\n",
       "[4 rows x 33 columns]"
      ]
     },
     "execution_count": 36,
     "metadata": {},
     "output_type": "execute_result"
    }
   ],
   "source": [
    "cong_df.head()"
   ]
  },
  {
   "cell_type": "code",
   "execution_count": 37,
   "metadata": {},
   "outputs": [
    {
     "name": "stderr",
     "output_type": "stream",
     "text": [
      "100%|██████████| 4/4 [00:00<00:00, 67.71it/s]\n",
      "100%|██████████| 4/4 [00:00<00:00, 63.30it/s]\n",
      "100%|██████████| 4/4 [00:00<00:00, 13.33it/s]\n"
     ]
    }
   ],
   "source": [
    "election_df = add_district(cong_df, \"CD\", election_df, \"DISTRICTNO\")"
   ]
  },
  {
   "cell_type": "code",
   "execution_count": 38,
   "metadata": {},
   "outputs": [
    {
     "data": {
      "text/html": [
       "<div>\n",
       "<style scoped>\n",
       "    .dataframe tbody tr th:only-of-type {\n",
       "        vertical-align: middle;\n",
       "    }\n",
       "\n",
       "    .dataframe tbody tr th {\n",
       "        vertical-align: top;\n",
       "    }\n",
       "\n",
       "    .dataframe thead th {\n",
       "        text-align: right;\n",
       "    }\n",
       "</style>\n",
       "<table border=\"1\" class=\"dataframe\">\n",
       "  <thead>\n",
       "    <tr style=\"text-align: right;\">\n",
       "      <th></th>\n",
       "      <th>DISTRICTNO</th>\n",
       "      <th>ADJPOP</th>\n",
       "      <th>TAWHITEALN</th>\n",
       "      <th>TABLACKCMB</th>\n",
       "      <th>TAAIANCMB</th>\n",
       "      <th>TAASIANCMB</th>\n",
       "      <th>TANHOPICMB</th>\n",
       "      <th>TAOTHERALN</th>\n",
       "      <th>TA2RACE</th>\n",
       "      <th>TAHISPANIC</th>\n",
       "      <th>...</th>\n",
       "      <th>AG18_OTH</th>\n",
       "      <th>SOS18_TOTA</th>\n",
       "      <th>SOS18_DEM</th>\n",
       "      <th>SOS18_REP</th>\n",
       "      <th>SOS18_OTH</th>\n",
       "      <th>PRES16_TOT</th>\n",
       "      <th>PRES16_DEM</th>\n",
       "      <th>PRES16_REP</th>\n",
       "      <th>PRES16_OTH</th>\n",
       "      <th>geometry</th>\n",
       "    </tr>\n",
       "  </thead>\n",
       "  <tbody>\n",
       "    <tr>\n",
       "      <th>0</th>\n",
       "      <td>1.0</td>\n",
       "      <td>148528.0</td>\n",
       "      <td>55907.0</td>\n",
       "      <td>39774.0</td>\n",
       "      <td>4220.0</td>\n",
       "      <td>17452.0</td>\n",
       "      <td>3583.0</td>\n",
       "      <td>19810.0</td>\n",
       "      <td>23798.0</td>\n",
       "      <td>43370.0</td>\n",
       "      <td>...</td>\n",
       "      <td>1998.0</td>\n",
       "      <td>39528.0</td>\n",
       "      <td>23405.0</td>\n",
       "      <td>15030.0</td>\n",
       "      <td>1099.0</td>\n",
       "      <td>47483.0</td>\n",
       "      <td>27388.0</td>\n",
       "      <td>17139.0</td>\n",
       "      <td>2952.0</td>\n",
       "      <td>POLYGON ((-115.22952 36.33470, -115.22907 36.3...</td>\n",
       "    </tr>\n",
       "    <tr>\n",
       "      <th>1</th>\n",
       "      <td>2.0</td>\n",
       "      <td>149050.0</td>\n",
       "      <td>34767.0</td>\n",
       "      <td>24267.0</td>\n",
       "      <td>5268.0</td>\n",
       "      <td>5682.0</td>\n",
       "      <td>1266.0</td>\n",
       "      <td>58798.0</td>\n",
       "      <td>26035.0</td>\n",
       "      <td>96390.0</td>\n",
       "      <td>...</td>\n",
       "      <td>1381.0</td>\n",
       "      <td>19753.0</td>\n",
       "      <td>14368.0</td>\n",
       "      <td>4634.0</td>\n",
       "      <td>753.0</td>\n",
       "      <td>27697.0</td>\n",
       "      <td>20379.0</td>\n",
       "      <td>5854.0</td>\n",
       "      <td>1469.0</td>\n",
       "      <td>POLYGON ((-115.16547 36.15888, -115.16547 36.1...</td>\n",
       "    </tr>\n",
       "    <tr>\n",
       "      <th>2</th>\n",
       "      <td>3.0</td>\n",
       "      <td>148851.0</td>\n",
       "      <td>58337.0</td>\n",
       "      <td>25773.0</td>\n",
       "      <td>4680.0</td>\n",
       "      <td>12864.0</td>\n",
       "      <td>2395.0</td>\n",
       "      <td>33248.0</td>\n",
       "      <td>22103.0</td>\n",
       "      <td>59602.0</td>\n",
       "      <td>...</td>\n",
       "      <td>2269.0</td>\n",
       "      <td>38024.0</td>\n",
       "      <td>21155.0</td>\n",
       "      <td>15710.0</td>\n",
       "      <td>1135.0</td>\n",
       "      <td>47775.0</td>\n",
       "      <td>26699.0</td>\n",
       "      <td>18225.0</td>\n",
       "      <td>2846.0</td>\n",
       "      <td>POLYGON ((-115.27915 36.24105, -115.27866 36.2...</td>\n",
       "    </tr>\n",
       "    <tr>\n",
       "      <th>3</th>\n",
       "      <td>4.0</td>\n",
       "      <td>148627.0</td>\n",
       "      <td>33841.0</td>\n",
       "      <td>42979.0</td>\n",
       "      <td>4854.0</td>\n",
       "      <td>8343.0</td>\n",
       "      <td>2314.0</td>\n",
       "      <td>42702.0</td>\n",
       "      <td>23218.0</td>\n",
       "      <td>72041.0</td>\n",
       "      <td>...</td>\n",
       "      <td>1740.0</td>\n",
       "      <td>31565.0</td>\n",
       "      <td>22927.0</td>\n",
       "      <td>7461.0</td>\n",
       "      <td>1182.0</td>\n",
       "      <td>40792.0</td>\n",
       "      <td>29919.0</td>\n",
       "      <td>8940.0</td>\n",
       "      <td>1930.0</td>\n",
       "      <td>POLYGON ((-115.22630 36.23320, -115.22616 36.2...</td>\n",
       "    </tr>\n",
       "    <tr>\n",
       "      <th>4</th>\n",
       "      <td>5.0</td>\n",
       "      <td>149268.0</td>\n",
       "      <td>89420.0</td>\n",
       "      <td>15951.0</td>\n",
       "      <td>4395.0</td>\n",
       "      <td>18124.0</td>\n",
       "      <td>2968.0</td>\n",
       "      <td>11040.0</td>\n",
       "      <td>20765.0</td>\n",
       "      <td>30539.0</td>\n",
       "      <td>...</td>\n",
       "      <td>2888.0</td>\n",
       "      <td>51512.0</td>\n",
       "      <td>24062.0</td>\n",
       "      <td>25944.0</td>\n",
       "      <td>1502.0</td>\n",
       "      <td>59074.0</td>\n",
       "      <td>26921.0</td>\n",
       "      <td>28285.0</td>\n",
       "      <td>3873.0</td>\n",
       "      <td>POLYGON ((-115.11880 36.01254, -115.11878 36.0...</td>\n",
       "    </tr>\n",
       "  </tbody>\n",
       "</table>\n",
       "<p>5 rows × 33 columns</p>\n",
       "</div>"
      ],
      "text/plain": [
       "   DISTRICTNO    ADJPOP  TAWHITEALN  TABLACKCMB  TAAIANCMB  TAASIANCMB  \\\n",
       "0         1.0  148528.0     55907.0     39774.0     4220.0     17452.0   \n",
       "1         2.0  149050.0     34767.0     24267.0     5268.0      5682.0   \n",
       "2         3.0  148851.0     58337.0     25773.0     4680.0     12864.0   \n",
       "3         4.0  148627.0     33841.0     42979.0     4854.0      8343.0   \n",
       "4         5.0  149268.0     89420.0     15951.0     4395.0     18124.0   \n",
       "\n",
       "   TANHOPICMB  TAOTHERALN  TA2RACE  TAHISPANIC  ...  AG18_OTH  SOS18_TOTA  \\\n",
       "0      3583.0     19810.0  23798.0     43370.0  ...    1998.0     39528.0   \n",
       "1      1266.0     58798.0  26035.0     96390.0  ...    1381.0     19753.0   \n",
       "2      2395.0     33248.0  22103.0     59602.0  ...    2269.0     38024.0   \n",
       "3      2314.0     42702.0  23218.0     72041.0  ...    1740.0     31565.0   \n",
       "4      2968.0     11040.0  20765.0     30539.0  ...    2888.0     51512.0   \n",
       "\n",
       "   SOS18_DEM  SOS18_REP  SOS18_OTH  PRES16_TOT  PRES16_DEM  PRES16_REP  \\\n",
       "0    23405.0    15030.0     1099.0     47483.0     27388.0     17139.0   \n",
       "1    14368.0     4634.0      753.0     27697.0     20379.0      5854.0   \n",
       "2    21155.0    15710.0     1135.0     47775.0     26699.0     18225.0   \n",
       "3    22927.0     7461.0     1182.0     40792.0     29919.0      8940.0   \n",
       "4    24062.0    25944.0     1502.0     59074.0     26921.0     28285.0   \n",
       "\n",
       "   PRES16_OTH                                           geometry  \n",
       "0      2952.0  POLYGON ((-115.22952 36.33470, -115.22907 36.3...  \n",
       "1      1469.0  POLYGON ((-115.16547 36.15888, -115.16547 36.1...  \n",
       "2      2846.0  POLYGON ((-115.27915 36.24105, -115.27866 36.2...  \n",
       "3      1930.0  POLYGON ((-115.22630 36.23320, -115.22616 36.2...  \n",
       "4      3873.0  POLYGON ((-115.11880 36.01254, -115.11878 36.0...  \n",
       "\n",
       "[5 rows x 33 columns]"
      ]
     },
     "execution_count": 38,
     "metadata": {},
     "output_type": "execute_result"
    }
   ],
   "source": [
    "send.head()"
   ]
  },
  {
   "cell_type": "code",
   "execution_count": 39,
   "metadata": {},
   "outputs": [
    {
     "name": "stderr",
     "output_type": "stream",
     "text": [
      "100%|██████████| 21/21 [00:00<00:00, 128.17it/s]\n",
      "100%|██████████| 21/21 [00:00<00:00, 189.51it/s]\n",
      "100%|██████████| 21/21 [00:01<00:00, 17.98it/s] \n"
     ]
    }
   ],
   "source": [
    "election_df = add_district(send, \"SEND\", election_df, \"DISTRICTNO\")"
   ]
  },
  {
   "cell_type": "code",
   "execution_count": 40,
   "metadata": {},
   "outputs": [
    {
     "data": {
      "text/html": [
       "<div>\n",
       "<style scoped>\n",
       "    .dataframe tbody tr th:only-of-type {\n",
       "        vertical-align: middle;\n",
       "    }\n",
       "\n",
       "    .dataframe tbody tr th {\n",
       "        vertical-align: top;\n",
       "    }\n",
       "\n",
       "    .dataframe thead th {\n",
       "        text-align: right;\n",
       "    }\n",
       "</style>\n",
       "<table border=\"1\" class=\"dataframe\">\n",
       "  <thead>\n",
       "    <tr style=\"text-align: right;\">\n",
       "      <th></th>\n",
       "      <th>DISTRICTNO</th>\n",
       "      <th>ADJPOP</th>\n",
       "      <th>TAWHITEALN</th>\n",
       "      <th>TABLACKCMB</th>\n",
       "      <th>TAAIANCMB</th>\n",
       "      <th>TAASIANCMB</th>\n",
       "      <th>TANHOPICMB</th>\n",
       "      <th>TAOTHERALN</th>\n",
       "      <th>TA2RACE</th>\n",
       "      <th>TAHISPANIC</th>\n",
       "      <th>...</th>\n",
       "      <th>AG18_OTH</th>\n",
       "      <th>SOS18_TOTA</th>\n",
       "      <th>SOS18_DEM</th>\n",
       "      <th>SOS18_REP</th>\n",
       "      <th>SOS18_OTH</th>\n",
       "      <th>PRES16_TOT</th>\n",
       "      <th>PRES16_DEM</th>\n",
       "      <th>PRES16_REP</th>\n",
       "      <th>PRES16_OTH</th>\n",
       "      <th>geometry</th>\n",
       "    </tr>\n",
       "  </thead>\n",
       "  <tbody>\n",
       "    <tr>\n",
       "      <th>0</th>\n",
       "      <td>1.0</td>\n",
       "      <td>74334.0</td>\n",
       "      <td>32160.0</td>\n",
       "      <td>15828.0</td>\n",
       "      <td>1929.0</td>\n",
       "      <td>9274.0</td>\n",
       "      <td>1839.0</td>\n",
       "      <td>9131.0</td>\n",
       "      <td>11693.0</td>\n",
       "      <td>20399.0</td>\n",
       "      <td>...</td>\n",
       "      <td>1208.0</td>\n",
       "      <td>24031.0</td>\n",
       "      <td>13067.0</td>\n",
       "      <td>10317.0</td>\n",
       "      <td>652.0</td>\n",
       "      <td>28146.0</td>\n",
       "      <td>14970.0</td>\n",
       "      <td>11458.0</td>\n",
       "      <td>1714.0</td>\n",
       "      <td>POLYGON ((-115.22952 36.33470, -115.22907 36.3...</td>\n",
       "    </tr>\n",
       "    <tr>\n",
       "      <th>1</th>\n",
       "      <td>2.0</td>\n",
       "      <td>74292.0</td>\n",
       "      <td>45074.0</td>\n",
       "      <td>6466.0</td>\n",
       "      <td>1282.0</td>\n",
       "      <td>14164.0</td>\n",
       "      <td>1011.0</td>\n",
       "      <td>3327.0</td>\n",
       "      <td>8614.0</td>\n",
       "      <td>10249.0</td>\n",
       "      <td>...</td>\n",
       "      <td>1276.0</td>\n",
       "      <td>28713.0</td>\n",
       "      <td>12862.0</td>\n",
       "      <td>15195.0</td>\n",
       "      <td>657.0</td>\n",
       "      <td>33041.0</td>\n",
       "      <td>15293.0</td>\n",
       "      <td>16025.0</td>\n",
       "      <td>1723.0</td>\n",
       "      <td>POLYGON ((-115.36575 36.16174, -115.36465 36.1...</td>\n",
       "    </tr>\n",
       "    <tr>\n",
       "      <th>2</th>\n",
       "      <td>3.0</td>\n",
       "      <td>74369.0</td>\n",
       "      <td>30313.0</td>\n",
       "      <td>14101.0</td>\n",
       "      <td>2350.0</td>\n",
       "      <td>5170.0</td>\n",
       "      <td>1227.0</td>\n",
       "      <td>15389.0</td>\n",
       "      <td>11461.0</td>\n",
       "      <td>28556.0</td>\n",
       "      <td>...</td>\n",
       "      <td>1164.0</td>\n",
       "      <td>20067.0</td>\n",
       "      <td>10951.0</td>\n",
       "      <td>8508.0</td>\n",
       "      <td>608.0</td>\n",
       "      <td>25020.0</td>\n",
       "      <td>13564.0</td>\n",
       "      <td>9946.0</td>\n",
       "      <td>1511.0</td>\n",
       "      <td>POLYGON ((-115.27915 36.24105, -115.27866 36.2...</td>\n",
       "    </tr>\n",
       "    <tr>\n",
       "      <th>3</th>\n",
       "      <td>4.0</td>\n",
       "      <td>73454.0</td>\n",
       "      <td>40970.0</td>\n",
       "      <td>11375.0</td>\n",
       "      <td>2165.0</td>\n",
       "      <td>7260.0</td>\n",
       "      <td>1494.0</td>\n",
       "      <td>6364.0</td>\n",
       "      <td>10796.0</td>\n",
       "      <td>16338.0</td>\n",
       "      <td>...</td>\n",
       "      <td>1446.0</td>\n",
       "      <td>26402.0</td>\n",
       "      <td>12045.0</td>\n",
       "      <td>13659.0</td>\n",
       "      <td>688.0</td>\n",
       "      <td>30402.0</td>\n",
       "      <td>13544.0</td>\n",
       "      <td>15014.0</td>\n",
       "      <td>1854.0</td>\n",
       "      <td>POLYGON ((-115.33348 36.26553, -115.33328 36.2...</td>\n",
       "    </tr>\n",
       "    <tr>\n",
       "      <th>4</th>\n",
       "      <td>5.0</td>\n",
       "      <td>74210.0</td>\n",
       "      <td>37497.0</td>\n",
       "      <td>10292.0</td>\n",
       "      <td>1792.0</td>\n",
       "      <td>13856.0</td>\n",
       "      <td>1335.0</td>\n",
       "      <td>5972.0</td>\n",
       "      <td>9515.0</td>\n",
       "      <td>14666.0</td>\n",
       "      <td>...</td>\n",
       "      <td>1194.0</td>\n",
       "      <td>23339.0</td>\n",
       "      <td>12272.0</td>\n",
       "      <td>10477.0</td>\n",
       "      <td>591.0</td>\n",
       "      <td>28569.0</td>\n",
       "      <td>14852.0</td>\n",
       "      <td>12025.0</td>\n",
       "      <td>1688.0</td>\n",
       "      <td>POLYGON ((-115.31583 36.15897, -115.31548 36.1...</td>\n",
       "    </tr>\n",
       "  </tbody>\n",
       "</table>\n",
       "<p>5 rows × 33 columns</p>\n",
       "</div>"
      ],
      "text/plain": [
       "   DISTRICTNO   ADJPOP  TAWHITEALN  TABLACKCMB  TAAIANCMB  TAASIANCMB  \\\n",
       "0         1.0  74334.0     32160.0     15828.0     1929.0      9274.0   \n",
       "1         2.0  74292.0     45074.0      6466.0     1282.0     14164.0   \n",
       "2         3.0  74369.0     30313.0     14101.0     2350.0      5170.0   \n",
       "3         4.0  73454.0     40970.0     11375.0     2165.0      7260.0   \n",
       "4         5.0  74210.0     37497.0     10292.0     1792.0     13856.0   \n",
       "\n",
       "   TANHOPICMB  TAOTHERALN  TA2RACE  TAHISPANIC  ...  AG18_OTH  SOS18_TOTA  \\\n",
       "0      1839.0      9131.0  11693.0     20399.0  ...    1208.0     24031.0   \n",
       "1      1011.0      3327.0   8614.0     10249.0  ...    1276.0     28713.0   \n",
       "2      1227.0     15389.0  11461.0     28556.0  ...    1164.0     20067.0   \n",
       "3      1494.0      6364.0  10796.0     16338.0  ...    1446.0     26402.0   \n",
       "4      1335.0      5972.0   9515.0     14666.0  ...    1194.0     23339.0   \n",
       "\n",
       "   SOS18_DEM  SOS18_REP  SOS18_OTH  PRES16_TOT  PRES16_DEM  PRES16_REP  \\\n",
       "0    13067.0    10317.0      652.0     28146.0     14970.0     11458.0   \n",
       "1    12862.0    15195.0      657.0     33041.0     15293.0     16025.0   \n",
       "2    10951.0     8508.0      608.0     25020.0     13564.0      9946.0   \n",
       "3    12045.0    13659.0      688.0     30402.0     13544.0     15014.0   \n",
       "4    12272.0    10477.0      591.0     28569.0     14852.0     12025.0   \n",
       "\n",
       "   PRES16_OTH                                           geometry  \n",
       "0      1714.0  POLYGON ((-115.22952 36.33470, -115.22907 36.3...  \n",
       "1      1723.0  POLYGON ((-115.36575 36.16174, -115.36465 36.1...  \n",
       "2      1511.0  POLYGON ((-115.27915 36.24105, -115.27866 36.2...  \n",
       "3      1854.0  POLYGON ((-115.33348 36.26553, -115.33328 36.2...  \n",
       "4      1688.0  POLYGON ((-115.31583 36.15897, -115.31548 36.1...  \n",
       "\n",
       "[5 rows x 33 columns]"
      ]
     },
     "execution_count": 40,
     "metadata": {},
     "output_type": "execute_result"
    }
   ],
   "source": [
    "hdist.head()"
   ]
  },
  {
   "cell_type": "code",
   "execution_count": 41,
   "metadata": {},
   "outputs": [
    {
     "name": "stderr",
     "output_type": "stream",
     "text": [
      "100%|██████████| 42/42 [00:00<00:00, 182.54it/s]\n",
      "100%|██████████| 42/42 [00:00<00:00, 307.51it/s]\n",
      "100%|██████████| 42/42 [00:01<00:00, 36.74it/s] \n"
     ]
    }
   ],
   "source": [
    "election_df = add_district(hdist, \"HDIST\", election_df, \"DISTRICTNO\")"
   ]
  },
  {
   "cell_type": "code",
   "execution_count": 42,
   "metadata": {},
   "outputs": [
    {
     "data": {
      "text/plain": [
       "Index(['2MOREVAP', 'AMINVAP', 'ASIANVAP', 'ATG18D', 'ATG18O', 'ATG18R', 'BVAP',\n",
       "       'CON18D', 'CON18O', 'CON18R', 'COUNTY', 'COUNTYFP', 'GOV18D', 'GOV18O',\n",
       "       'GOV18R', 'HISP', 'HVAP', 'H_2MORE', 'H_AMIN', 'H_ASIAN', 'H_BLACK',\n",
       "       'H_NHPI', 'H_OTHER', 'H_WHITE', 'LTG18D', 'LTG18O', 'LTG18R', 'NAME',\n",
       "       'NHPIVAP', 'NH_2MORE', 'NH_AMIN', 'NH_ASIAN', 'NH_BLACK', 'NH_NHPI',\n",
       "       'NH_OTHER', 'NH_WHITE', 'OTHERVAP', 'PRE16D', 'PRE16O', 'PRE16R',\n",
       "       'PRE20D', 'PRE20O', 'PRE20R', 'SOS18D', 'SOS18O', 'SOS18R', 'STATEFP',\n",
       "       'TOTPOP', 'TRE18D', 'TRE18O', 'TRE18R', 'USS16D', 'USS16O', 'USS16R',\n",
       "       'USS18D', 'USS18O', 'USS18R', 'VAP', 'VTDST', 'WVAP', 'geometry', 'CD',\n",
       "       'SEND', 'HDIST'],\n",
       "      dtype='object')"
      ]
     },
     "execution_count": 42,
     "metadata": {},
     "output_type": "execute_result"
    }
   ],
   "source": [
    "election_df.columns"
   ]
  },
  {
   "cell_type": "markdown",
   "metadata": {},
   "source": [
    "### Put the base precinct year after the precinct information column"
   ]
  },
  {
   "cell_type": "code",
   "execution_count": 43,
   "metadata": {},
   "outputs": [],
   "source": [
    "base_columns = {}\n",
    "if 'COUNTYFP' + year not in election_df.columns:\n",
    "    base_columns = {\n",
    "        'STATEFP':'STATEFP'+year,\n",
    "        'COUNTYFP':'COUNTYFP'+year,\n",
    "        'COUNTY':'COUNTY'+year,\n",
    "        'VTDST':'VTDST'+year,\n",
    "        'NAME':'NAME'+year}\n",
    "election_df.rename(columns=base_columns, inplace = True)"
   ]
  },
  {
   "cell_type": "code",
   "execution_count": 44,
   "metadata": {},
   "outputs": [
    {
     "data": {
      "text/plain": [
       "Index(['2MOREVAP', 'AMINVAP', 'ASIANVAP', 'ATG18D', 'ATG18O', 'ATG18R', 'BVAP',\n",
       "       'CON18D', 'CON18O', 'CON18R', 'COUNTY20', 'COUNTYFP20', 'GOV18D',\n",
       "       'GOV18O', 'GOV18R', 'HISP', 'HVAP', 'H_2MORE', 'H_AMIN', 'H_ASIAN',\n",
       "       'H_BLACK', 'H_NHPI', 'H_OTHER', 'H_WHITE', 'LTG18D', 'LTG18O', 'LTG18R',\n",
       "       'NAME20', 'NHPIVAP', 'NH_2MORE', 'NH_AMIN', 'NH_ASIAN', 'NH_BLACK',\n",
       "       'NH_NHPI', 'NH_OTHER', 'NH_WHITE', 'OTHERVAP', 'PRE16D', 'PRE16O',\n",
       "       'PRE16R', 'PRE20D', 'PRE20O', 'PRE20R', 'SOS18D', 'SOS18O', 'SOS18R',\n",
       "       'STATEFP20', 'TOTPOP', 'TRE18D', 'TRE18O', 'TRE18R', 'USS16D', 'USS16O',\n",
       "       'USS16R', 'USS18D', 'USS18O', 'USS18R', 'VAP', 'VTDST20', 'WVAP',\n",
       "       'geometry', 'CD', 'SEND', 'HDIST'],\n",
       "      dtype='object')"
      ]
     },
     "execution_count": 44,
     "metadata": {},
     "output_type": "execute_result"
    }
   ],
   "source": [
    "election_df.columns"
   ]
  },
  {
   "cell_type": "code",
   "execution_count": 45,
   "metadata": {},
   "outputs": [],
   "source": [
    "# reorder the columns\n",
    "fixed_columns = [\n",
    "    'STATEFP'+year,\n",
    "    'COUNTYFP'+year,\n",
    "    'COUNTY'+year,\n",
    "    'VTDST'+year,\n",
    "    'NAME'+year,\n",
    "    'CD',\n",
    "    'SEND',\n",
    "    'HDIST',\n",
    "    'TOTPOP',\n",
    "    'NH_2MORE',\n",
    "    'NH_AMIN',\n",
    "    'NH_ASIAN',\n",
    "    'NH_BLACK',\n",
    "    'NH_NHPI',\n",
    "    'NH_OTHER',\n",
    "    'NH_WHITE',\n",
    "    'HISP',\n",
    "    'H_AMIN',\n",
    "    'H_ASIAN',\n",
    "    'H_BLACK',\n",
    "    'H_NHPI',\n",
    "    'H_OTHER',\n",
    "    'H_WHITE',\n",
    "    'H_2MORE',\n",
    "    'VAP',\n",
    "    'HVAP',\n",
    "    'WVAP',\n",
    "    'BVAP',\n",
    "    'AMINVAP',\n",
    "    'ASIANVAP',\n",
    "    'NHPIVAP',\n",
    "    'OTHERVAP',\n",
    "    '2MOREVAP']\n",
    "\n",
    "election_columns = [col for col in election_df.columns if col not in fixed_columns]\n",
    "final_col = fixed_columns + election_columns\n",
    "election_df = election_df[final_col]"
   ]
  },
  {
   "cell_type": "code",
   "execution_count": 46,
   "metadata": {},
   "outputs": [],
   "source": [
    "import os\n",
    "\n",
    "# store the result in directory \"il\"\n",
    "directory = \"./{}\".format(state_ab)\n",
    "if not os.path.exists(directory):\n",
    "    os.makedirs(directory)\n",
    "\n",
    "shapefile_path = \"./{}/{}.shp\".format(state_ab, state_ab)\n",
    "geojson_path = './{}/{}.geojson'.format(state_ab, state_ab)\n",
    "json_path = \"./{}/{}.json\".format(state_ab, state_ab)\n",
    "\n",
    "# Check if the shapefile or geojson file already exists\n",
    "if os.path.exists(shapefile_path):\n",
    "    os.remove(shapefile_path)\n",
    "if os.path.exists(geojson_path):\n",
    "    os.remove(geojson_path)\n",
    "\n",
    "election_df.to_file(shapefile_path)\n",
    "election_df.to_file(geojson_path, driver='GeoJSON')\n",
    "\n",
    "# Only do once to build json and read from file when generating ensembles\n",
    "graph = Graph.from_file(shapefile_path, ignore_errors=True)\n",
    "graph.to_json(json_path)"
   ]
  },
  {
   "cell_type": "code",
   "execution_count": 47,
   "metadata": {},
   "outputs": [
    {
     "data": {
      "text/plain": [
       "<Axes: >"
      ]
     },
     "execution_count": 47,
     "metadata": {},
     "output_type": "execute_result"
    },
    {
     "data": {
      "image/png": "[encoded data removed]",
      "text/plain": [
       "<Figure size 640x480 with 1 Axes>"
      ]
     },
     "metadata": {},
     "output_type": "display_data"
    }
   ],
   "source": [
    "shapefile_path = \"./{}/{}.shp\".format(state_ab, state_ab)\n",
    "shape=gpd.read_file(shapefile_path)\n",
    "shape.plot()"
   ]
  }
 ],
 "metadata": {
  "kernelspec": {
   "display_name": "gerry",
   "language": "python",
   "name": "python3"
  },
  "language_info": {
   "codemirror_mode": {
    "name": "ipython",
    "version": 3
   },
   "file_extension": ".py",
   "mimetype": "text/x-python",
   "name": "python",
   "nbconvert_exporter": "python",
   "pygments_lexer": "ipython3",
   "version": "3.11.7"
  }
 },
 "nbformat": 4,
 "nbformat_minor": 2
}
