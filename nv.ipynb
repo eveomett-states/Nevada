{
 "cells": [
  {
   "cell_type": "code",
   "execution_count": 1,
   "metadata": {},
   "outputs": [],
   "source": [
    "import pandas as pd\n",
    "import geopandas as gpd\n",
    "import maup\n",
    "import time\n",
    "from maup import smart_repair\n",
    "from gerrychain import Graph\n",
    "\n",
    "maup.progress.enabled = True"
   ]
  },
  {
   "cell_type": "code",
   "execution_count": 2,
   "metadata": {},
   "outputs": [],
   "source": [
    "import warnings\n",
    "warnings.filterwarnings(\"ignore\")"
   ]
  },
  {
   "cell_type": "code",
   "execution_count": 3,
   "metadata": {},
   "outputs": [],
   "source": [
    "# state = Nevada\n",
    "state_ab = \"nv\""
   ]
  },
  {
   "cell_type": "markdown",
   "metadata": {},
   "source": [
    "## Data\n",
    "1. Download all the data in directory \"nv_data\"\n",
    "2. Extract them all"
   ]
  },
  {
   "cell_type": "code",
   "execution_count": 5,
   "metadata": {},
   "outputs": [],
   "source": [
    "data_folder = state_ab + \"_data/\"\n",
    "population1_data = \"./{}{}_pl2020_b/{}_pl2020_p1_b.shp\".format(data_folder, state_ab, state_ab)\n",
    "population2_data = \"./{}{}_pl2020_b/{}_pl2020_p2_b.shp\".format(data_folder, state_ab, state_ab)\n",
    "vap_data =  \"./{}{}_pl2020_b/{}_pl2020_p4_b.shp\".format(data_folder, state_ab, state_ab)\n",
    "vest20_data = \"./{}{}_vest_20/{}_vest_20.shp\".format(data_folder, state_ab, state_ab)\n",
    "vest18_data = \"./{}{}_vest_18/{}_vest_18.shp\".format(data_folder, state_ab, state_ab)\n",
    "vest16_data = \"./{}{}_vest_16/{}_vest_16.shp\".format(data_folder, state_ab, state_ab)\n",
    "cd_data = \"./{}{}_cong_2021/nv_cong_2021.shp\".format(data_folder, state_ab)\n",
    "send_data = \"./{}{}_sldu_2021/nv_sldu_2021.shp\".format(data_folder, state_ab)\n",
    "hdist_data = \"./{}{}_sldl_2021/nv_sldl_2021.shp\".format(data_folder, state_ab)\n",
    "county_data = \"./{}{}_pl2020_cnty/{}_pl2020_cnty.shp\".format(data_folder, state_ab, state_ab)"
   ]
  },
  {
   "cell_type": "code",
   "execution_count": 6,
   "metadata": {},
   "outputs": [],
   "source": [
    "def do_smart_repair(df, min_rook_length = None, snap_precision = 10):\n",
    "    # change it to the UTM it needs for smart_repair\n",
    "    df = df.to_crs(df.estimate_utm_crs())\n",
    "    df = smart_repair(df, min_rook_length = min_rook_length, snap_precision = snap_precision)\n",
    "\n",
    "    if maup.doctor(df) == False:\n",
    "        raise Exception('maup.doctor failed')\n",
    "    \n",
    "    return df"
   ]
  },
  {
   "cell_type": "code",
   "execution_count": 7,
   "metadata": {},
   "outputs": [],
   "source": [
    "def add_district(dist_df, dist_name, election_df, col_name):\n",
    "    election_df = election_df.to_crs(election_df.estimate_utm_crs())\n",
    "    dist_df = dist_df.to_crs(dist_df.estimate_utm_crs())\n",
    "    # check if it needs to be smart_repair\n",
    "    if maup.doctor(dist_df) != True:\n",
    "        dist_df = do_smart_repair(dist_df)\n",
    "\n",
    "    # assign the pricincts\n",
    "    precincts_to_district_assignment = maup.assign(election_df.geometry, dist_df.geometry)\n",
    "    election_df[dist_name] = precincts_to_district_assignment\n",
    "    for precinct_index in range(len(election_df)):\n",
    "        election_df.at[precinct_index, dist_name] = dist_df.at[election_df.at[precinct_index, dist_name], col_name]\n",
    "\n",
    "    return election_df"
   ]
  },
  {
   "cell_type": "code",
   "execution_count": 8,
   "metadata": {},
   "outputs": [],
   "source": [
    "def rename(original, year):\n",
    "    party = original[6]\n",
    "    if party == 'R' or party == 'D':\n",
    "        return original[3:6] + year + original[6]\n",
    "    else:\n",
    "        return original[3:6] + year + 'O'"
   ]
  },
  {
   "cell_type": "code",
   "execution_count": 9,
   "metadata": {},
   "outputs": [],
   "source": [
    "pop_col = ['TOTPOP', 'HISP', 'NH_WHITE', 'NH_BLACK', 'NH_AMIN', 'NH_ASIAN', 'NH_NHPI', 'NH_OTHER', 'NH_2MORE', 'H_WHITE', 'H_BLACK', 'H_AMIN', 'H_ASIAN', 'H_NHPI', 'H_OTHER', 'H_2MORE', 'VAP', 'HVAP', 'WVAP', 'BVAP', 'AMINVAP', 'ASIANVAP', 'NHPIVAP', 'OTHERVAP', '2MOREVAP']"
   ]
  },
  {
   "cell_type": "code",
   "execution_count": 10,
   "metadata": {},
   "outputs": [],
   "source": [
    "def check_population(population, df):\n",
    "    pop_check = pd.DataFrame({\n",
    "        'pop_col': pop_col,\n",
    "        'population_df': population[pop_col].sum(), \n",
    "        'vest_base': df[pop_col].sum(),\n",
    "        'equal': [x == y for x, y in zip(population[pop_col].sum(), df[pop_col].sum())]\n",
    "    })\n",
    "    if pop_check['equal'].mean() < 1:\n",
    "        print(pop_check)\n",
    "        raise Exception(\"population doesn't agree\")\n",
    "\n",
    "    else:\n",
    "        print(\"population agrees\")"
   ]
  },
  {
   "cell_type": "code",
   "execution_count": 11,
   "metadata": {},
   "outputs": [],
   "source": [
    "def add_vest(vest, df, year, population, start_col, snap_precision = 10):\n",
    "    df = df.to_crs(df.estimate_utm_crs())\n",
    "    vest = vest.to_crs(vest.estimate_utm_crs())\n",
    "    population = population.to_crs(population.estimate_utm_crs())\n",
    "    df_crs = df.crs\n",
    "    vest_crs = vest.crs\n",
    "    \n",
    "     # check if it needs to be smart_repair\n",
    "    if maup.doctor(vest) != True:\n",
    "        vest = do_smart_repair(vest, snap_precision = snap_precision)\n",
    "    \n",
    "    # rename the columns\n",
    "    original_col = vest.columns[start_col:-1]\n",
    "    new_col = [rename(i, year) for i in original_col]\n",
    "    rename_dict = dict(zip(original_col, new_col))\n",
    "    vest = vest.rename(columns=rename_dict)\n",
    "    vest = vest.groupby(level=0, axis=1).sum() # combine all the other party's vote into columns with sufix \"O\"\n",
    "    col_name = list(set(new_col))\n",
    "    col_name.sort()\n",
    "    \n",
    "    # make the blocks from precincts by weight\n",
    "    vest = gpd.GeoDataFrame(vest, crs=vest_crs)\n",
    "    election_in_block = population[[\"VAP\", 'geometry']] # population_df is in block scale\n",
    "    blocks_to_precincts_assignment = maup.assign(election_in_block.geometry, vest.geometry)\n",
    "    weights = election_in_block[\"VAP\"] / blocks_to_precincts_assignment.map(election_in_block[\"VAP\"].groupby(blocks_to_precincts_assignment).sum())\n",
    "    weights = weights.fillna(0)\n",
    "    prorated = maup.prorate(blocks_to_precincts_assignment, vest[col_name], weights)\n",
    "    election_in_block[col_name] = prorated\n",
    "    \n",
    "    # assign blocks to precincts\n",
    "    election_in_block = gpd.GeoDataFrame(election_in_block, crs=vest_crs)\n",
    "    df = gpd.GeoDataFrame(df, crs=df_crs)\n",
    "    block_to_pricinct_assginment = maup.assign(election_in_block.geometry, df.geometry)\n",
    "    df[col_name] = election_in_block[col_name].groupby(block_to_pricinct_assginment).sum()\n",
    "    df = df.groupby(level=0, axis=1).sum()\n",
    "    df = gpd.GeoDataFrame(df, crs = df_crs)\n",
    "    # check if population agrees\n",
    "    check_population(population, df)\n",
    "    \n",
    "    return df"
   ]
  },
  {
   "cell_type": "code",
   "execution_count": 12,
   "metadata": {},
   "outputs": [],
   "source": [
    "def add_vest_base(vest, start_col, year, county = None, min_rook_length = None, snap_precision = 10):\n",
    "    vest = vest.to_crs(vest.estimate_utm_crs())\n",
    "    vest_crs = vest.crs\n",
    "    original_col = vest.columns[start_col:-1]\n",
    "    new_col = [rename(i, year) for i in original_col]\n",
    "    rename_dict = dict(zip(original_col, new_col))\n",
    "    vest = vest.rename(columns=rename_dict)\n",
    "    vest = vest.groupby(level=0, axis=1).sum()\n",
    "    vest = gpd.GeoDataFrame(vest, crs=vest_crs)\n",
    "\n",
    "    if county is not None:\n",
    "        county = county.to_crs(county.estimate_utm_crs())\n",
    "        vest = smart_repair(vest, nest_within_regions = county, min_rook_length = min_rook_length, snap_precision = snap_precision) # nest precincts within counties\n",
    "\n",
    "    else:\n",
    "        vest = smart_repair(vest, min_rook_length = min_rook_length, snap_precision = snap_precision) \n",
    "    \n",
    "    return vest"
   ]
  },
  {
   "cell_type": "code",
   "execution_count": 13,
   "metadata": {},
   "outputs": [],
   "source": [
    "def check_small_boundary_lengths(vest_base):\n",
    "    import copy\n",
    "    vest_base = vest_base.to_crs(vest_base.estimate_utm_crs())\n",
    "\n",
    "    boundaries = copy.deepcopy(vest_base)\n",
    "    boundaries[\"geometry\"] = boundaries.geometry.boundary  # get boundaries\n",
    "    neighbors = gpd.sjoin(boundaries, vest_base, predicate=\"intersects\") # find boundaries that intersect\n",
    "    neighbors = neighbors[neighbors.index != neighbors.index_right] # remove boundaries of a region with itself\n",
    "\n",
    "    # compute shared border length using intersection\n",
    "    borders = list(neighbors.apply(\n",
    "        lambda row: row.geometry.intersection(vest_base.loc[row.index_right, \"geometry\"]).length, axis=1\n",
    "    ))\n",
    "\n",
    "    borders.sort()\n",
    "    \n",
    "    return borders"
   ]
  },
  {
   "cell_type": "markdown",
   "metadata": {},
   "source": [
    "### Read the census data"
   ]
  },
  {
   "cell_type": "code",
   "execution_count": 15,
   "metadata": {},
   "outputs": [],
   "source": [
    "population1_df = gpd.read_file(population1_data)\n",
    "population2_df = gpd.read_file(population2_data)\n",
    "vap_df = gpd.read_file(vap_data)\n",
    "county_df = gpd.read_file(county_data)"
   ]
  },
  {
   "cell_type": "code",
   "execution_count": 16,
   "metadata": {},
   "outputs": [],
   "source": [
    "population2_df = population2_df.drop(columns=['SUMLEV', 'LOGRECNO', 'GEOID', 'COUNTY', 'geometry'])\n",
    "vap_df = vap_df.drop(columns=['SUMLEV', 'LOGRECNO', 'GEOID', 'COUNTY', 'geometry'])"
   ]
  },
  {
   "cell_type": "code",
   "execution_count": 17,
   "metadata": {},
   "outputs": [],
   "source": [
    "population_df = pd.merge(population1_df, population2_df, on='GEOID20')\n",
    "population_df = pd.merge(population_df, vap_df, on='GEOID20')\n",
    "population_df = population_df.to_crs(population_df.estimate_utm_crs())"
   ]
  },
  {
   "cell_type": "code",
   "execution_count": 18,
   "metadata": {},
   "outputs": [
    {
     "name": "stderr",
     "output_type": "stream",
     "text": [
      "100%|███████████████████████████████████| 57409/57409 [00:24<00:00, 2312.04it/s]\n"
     ]
    },
    {
     "data": {
      "text/plain": [
       "True"
      ]
     },
     "execution_count": 18,
     "metadata": {},
     "output_type": "execute_result"
    }
   ],
   "source": [
    "maup.doctor(population_df)"
   ]
  },
  {
   "cell_type": "code",
   "execution_count": 19,
   "metadata": {},
   "outputs": [],
   "source": [
    "population_df['H_WHITE'] = population_df.apply(lambda t: t['P0010003'] - t['P0020005'], 1)\n",
    "population_df['H_BLACK'] = population_df.apply(lambda t: t['P0010004'] - t['P0020006'], 1)\n",
    "population_df['H_AMIN'] = population_df.apply(lambda t: t['P0010005'] - t['P0020007'], 1)\n",
    "population_df['H_ASIAN'] = population_df.apply(lambda t: t['P0010006'] - t['P0020008'], 1)\n",
    "population_df['H_NHPI'] = population_df.apply(lambda t: t['P0010007'] - t['P0020009'], 1)\n",
    "population_df['H_OTHER'] = population_df.apply(lambda t: t['P0010008'] - t['P0020010'], 1)\n",
    "population_df['H_2MORE'] = population_df.apply(lambda t: t['P0010009'] - t['P0020011'], 1)"
   ]
  },
  {
   "cell_type": "code",
   "execution_count": 20,
   "metadata": {},
   "outputs": [],
   "source": [
    "rename_dict = {'P0020001': 'TOTPOP', 'P0020002': 'HISP', 'P0020005': 'NH_WHITE', 'P0020006': 'NH_BLACK', 'P0020007': 'NH_AMIN',\n",
    "                    'P0020008': 'NH_ASIAN', 'P0020009': 'NH_NHPI', 'P0020010': 'NH_OTHER', 'P0020011': 'NH_2MORE',\n",
    "                    'P0040001': 'VAP', 'P0040002': 'HVAP', 'P0040005': 'WVAP', 'P0040006': 'BVAP', 'P0040007': 'AMINVAP',\n",
    "                                        'P0040008': 'ASIANVAP', 'P0040009': 'NHPIVAP', 'P0040010': 'OTHERVAP', 'P0040011': '2MOREVAP'}"
   ]
  },
  {
   "cell_type": "code",
   "execution_count": 21,
   "metadata": {},
   "outputs": [],
   "source": [
    "population_df.rename(columns=rename_dict, inplace = True)"
   ]
  },
  {
   "cell_type": "code",
   "execution_count": 22,
   "metadata": {},
   "outputs": [
    {
     "name": "stderr",
     "output_type": "stream",
     "text": [
      "100%|██████████████████████████████████████████| 17/17 [00:00<00:00, 437.25it/s]\n"
     ]
    },
    {
     "data": {
      "text/plain": [
       "True"
      ]
     },
     "execution_count": 22,
     "metadata": {},
     "output_type": "execute_result"
    }
   ],
   "source": [
    "county_df = county_df.to_crs(county_df.estimate_utm_crs())\n",
    "maup.doctor(county_df)"
   ]
  },
  {
   "cell_type": "markdown",
   "metadata": {},
   "source": [
    "## Read the vest 20 data\n",
    "\n",
    "Now using it as a \"base pricinct\""
   ]
  },
  {
   "cell_type": "markdown",
   "metadata": {},
   "source": [
    "## Check if vest20 can be used as base"
   ]
  },
  {
   "cell_type": "code",
   "execution_count": 25,
   "metadata": {},
   "outputs": [],
   "source": [
    "vest20 = gpd.read_file(vest20_data)"
   ]
  },
  {
   "cell_type": "code",
   "execution_count": 26,
   "metadata": {},
   "outputs": [
    {
     "data": {
      "text/plain": [
       "Index(['STATEFP', 'COUNTYFP', 'COUNTY', 'VTDST', 'NAME', 'G20PREDBID',\n",
       "       'G20PRERTRU', 'G20PRELJOR', 'G20PREIBLA', 'G20PREONON', 'geometry'],\n",
       "      dtype='object')"
      ]
     },
     "execution_count": 26,
     "metadata": {},
     "output_type": "execute_result"
    }
   ],
   "source": [
    "vest20.columns"
   ]
  },
  {
   "cell_type": "code",
   "execution_count": 27,
   "metadata": {},
   "outputs": [],
   "source": [
    "start_col = 5\n",
    "vest_base_data = vest20\n",
    "year = '20'"
   ]
  },
  {
   "cell_type": "code",
   "execution_count": 28,
   "metadata": {},
   "outputs": [
    {
     "name": "stderr",
     "output_type": "stream",
     "text": [
      "100%|██████████████████████████████████████████| 17/17 [00:00<00:00, 437.64it/s]\n"
     ]
    },
    {
     "name": "stdout",
     "output_type": "stream",
     "text": [
      "Snapping all geometries to a grid with precision 10^( -5 ) to avoid GEOS errors.\n"
     ]
    },
    {
     "name": "stderr",
     "output_type": "stream",
     "text": [
      "100%|██████████████████████████████████████████| 17/17 [00:00<00:00, 174.62it/s]\n",
      "100%|██████████████████████████████████████████| 17/17 [00:00<00:00, 145.99it/s]\n"
     ]
    },
    {
     "name": "stdout",
     "output_type": "stream",
     "text": [
      "Identifying overlaps...\n"
     ]
    },
    {
     "name": "stderr",
     "output_type": "stream",
     "text": [
      "100%|█████████████████████████████████████| 8665/8665 [00:04<00:00, 2108.67it/s]\n"
     ]
    },
    {
     "name": "stdout",
     "output_type": "stream",
     "text": [
      "Resolving overlaps and filling gaps...\n"
     ]
    },
    {
     "name": "stderr",
     "output_type": "stream",
     "text": [
      "100%|██████████████████████████████████████████| 17/17 [00:00<00:00, 187.94it/s]\n",
      "100%|██████████████████████████████████████████| 17/17 [00:00<00:00, 150.33it/s]\n",
      "Gaps to simplify in region 0: 100%|███████████| 557/557 [00:16<00:00, 33.50it/s]\n",
      "Gaps to fill in region 0: 100%|█████████████████| 20/20 [00:00<00:00, 21.93it/s]\n",
      "Gaps to simplify in region 1: 100%|█████████| 1124/1124 [00:46<00:00, 24.02it/s]\n",
      "Gaps to fill in region 1: 100%|█████████████████| 26/26 [00:00<00:00, 27.90it/s]\n",
      "Gaps to simplify: 0it [00:00, ?it/s]\n",
      "Gaps to fill: 0it [00:00, ?it/s]\n",
      "Gaps to simplify in region 3: 518it [02:41,  3.20it/s]                          \n",
      "Gaps to fill in region 3: 100%|███████████████| 127/127 [00:04<00:00, 25.81it/s]\n",
      "Gaps to simplify in region 4: 100%|████████████| 11/11 [00:00<00:00, 116.93it/s]\n",
      "Gaps to fill in region 4: 100%|███████████████████| 1/1 [00:00<00:00, 72.07it/s]\n",
      "Gaps to simplify in region 5: 100%|████████████| 31/31 [00:00<00:00, 131.27it/s]\n",
      "Gaps to fill in region 5: 100%|███████████████████| 4/4 [00:00<00:00, 91.75it/s]\n",
      "Gaps to simplify: 0it [00:00, ?it/s]\n",
      "Gaps to fill: 0it [00:00, ?it/s]\n",
      "Gaps to simplify in region 7: 100%|███████████████| 1/1 [00:00<00:00, 48.34it/s]\n",
      "Gaps to fill: 0it [00:00, ?it/s]\n",
      "Gaps to simplify in region 8: 100%|█████████████| 76/76 [00:01<00:00, 44.73it/s]\n",
      "Gaps to fill in region 8: 100%|███████████████████| 8/8 [00:00<00:00, 27.75it/s]\n",
      "Gaps to simplify in region 9: 100%|█████████████| 88/88 [00:00<00:00, 99.37it/s]\n",
      "Gaps to fill in region 9: 100%|███████████████████| 4/4 [00:00<00:00, 42.88it/s]\n",
      "Gaps to simplify in region 10: 100%|██████████| 680/680 [00:39<00:00, 17.06it/s]\n",
      "Gaps to fill in region 10: 100%|██████████████| 129/129 [00:11<00:00, 11.34it/s]\n",
      "Gaps to simplify: 0it [00:00, ?it/s]\n",
      "Gaps to fill: 0it [00:00, ?it/s]\n",
      "Gaps to simplify in region 12: 100%|██████████████| 2/2 [00:00<00:00, 35.57it/s]\n",
      "Gaps to fill: 0it [00:00, ?it/s]\n",
      "Gaps to simplify in region 13: 100%|██████████| 115/115 [00:03<00:00, 29.73it/s]\n",
      "Gaps to fill in region 13: 100%|██████████████████| 8/8 [00:00<00:00, 42.39it/s]\n",
      "Gaps to simplify: 0it [00:00, ?it/s]\n",
      "Gaps to fill: 0it [00:00, ?it/s]\n",
      "Gaps to simplify in region 15: 100%|██████████████| 3/3 [00:00<00:00, 86.91it/s]\n",
      "Gaps to fill: 0it [00:00, ?it/s]\n",
      "Gaps to simplify in region 16: 100%|██████████████| 6/6 [00:00<00:00, 23.11it/s]\n",
      "Gaps to fill in region 16: 100%|██████████████████| 1/1 [00:00<00:00, 14.86it/s]\n"
     ]
    }
   ],
   "source": [
    "vest_base = add_vest_base(vest_base_data, start_col, year, county = county_df)"
   ]
  },
  {
   "cell_type": "code",
   "execution_count": 29,
   "metadata": {},
   "outputs": [
    {
     "name": "stdout",
     "output_type": "stream",
     "text": [
      "[88.35746376404478, 88.3574637640448, 89.39839625192698, 89.39839625192701, 90.40572094160898, 90.40572094160898, 90.54655989488556, 90.54655989488556, 90.74873673634664, 90.74873673634664, 90.79061972471376, 90.79061972471376, 91.63945165629748, 91.63945165629748, 92.9912054246144, 92.9912054246144, 93.0096687994956, 93.0096687994956, 93.16808270924498, 93.16808270924498, 93.32145369466811, 93.32145369466811, 95.21378919974606, 95.21378919974606, 95.43639765453256, 95.43639765453256, 95.63841876508549, 95.63841876508549, 95.6955327142935, 95.6955327142935, 96.27599450525328, 96.2759945052533, 96.3034633691276, 96.3034633691276, 96.83226763866146, 96.83226763866148, 96.87894206863004, 96.87894206863004, 98.40627755804442, 98.40627755804442, 98.55879361645017, 98.55879361645017, 99.2155311149147, 99.2155311149147, 99.67443015029532, 99.67443015029532, 99.81850115592783, 99.81850115592783, 99.88124543953285, 99.88124543953286, 99.96422406752718, 99.96422406752718, 99.99774558637121, 99.99774558637121, 100.57280254152711, 100.57280254152711, 100.61822023222682, 100.61822023222682, 100.94585326115015, 100.94585326115015, 101.20720352591144, 101.20720352591144, 101.21758775226776, 101.21758775226776, 101.57990030552382, 101.57990030552382, 101.83644782449282, 101.83644782449282, 102.70937575807095, 102.70937575807095, 102.78296025555706, 102.78296025555706, 102.82117503465659, 102.82117503465659, 102.93347632255362, 102.93347632255362, 103.15263718909341, 103.15263718909341, 103.38249796096488, 103.38249796096488, 103.76700333092487, 103.76700333092488, 103.91470149307389, 103.91470149307389, 104.0648422356717, 104.0648422356717, 104.15553795053111, 104.15553795053111, 104.15556561024286, 104.15556561024286, 104.3412331771324, 104.3412331771324, 104.47902433550475, 104.47902433550476, 104.89952238993831, 104.89952238993833, 105.1802368379836, 105.1802368379836, 105.18096237628424, 105.18096237628427]\n"
     ]
    }
   ],
   "source": [
    "borders = check_small_boundary_lengths(vest_base)\n",
    "print(borders[2500:2600])"
   ]
  },
  {
   "cell_type": "code",
   "execution_count": 30,
   "metadata": {},
   "outputs": [
    {
     "name": "stdout",
     "output_type": "stream",
     "text": [
      "Snapping all geometries to a grid with precision 10^( -5 ) to avoid GEOS errors.\n",
      "Identifying overlaps...\n"
     ]
    },
    {
     "name": "stderr",
     "output_type": "stream",
     "text": [
      "100%|█████████████████████████████████████| 2125/2125 [00:00<00:00, 4336.96it/s]\n"
     ]
    },
    {
     "name": "stdout",
     "output_type": "stream",
     "text": [
      "Resolving overlaps...\n",
      "Assigning order 2 pieces...\n",
      "Assigning order 3 pieces...\n",
      "Filling gaps...\n"
     ]
    },
    {
     "name": "stderr",
     "output_type": "stream",
     "text": [
      "Gaps to simplify: 0it [00:00, ?it/s]\n",
      "Gaps to fill: 0it [00:00, ?it/s]"
     ]
    },
    {
     "name": "stdout",
     "output_type": "stream",
     "text": [
      "Converting small rook adjacencies to queen...\n"
     ]
    },
    {
     "name": "stderr",
     "output_type": "stream",
     "text": [
      "\n",
      "100%|█████████████████████████████████████| 2094/2094 [00:01<00:00, 1500.61it/s]\n",
      "100%|███████████████████████████████████████████| 3/3 [00:00<00:00, 2904.64it/s]\n",
      "100%|███████████████████████████████████████████| 5/5 [00:00<00:00, 3109.66it/s]\n",
      "100%|███████████████████████████████████████████| 4/4 [00:00<00:00, 2896.12it/s]\n",
      "100%|███████████████████████████████████████████| 4/4 [00:00<00:00, 2900.63it/s]\n",
      "100%|███████████████████████████████████████████| 4/4 [00:00<00:00, 2737.80it/s]\n",
      "100%|███████████████████████████████████████████| 4/4 [00:00<00:00, 2728.00it/s]\n",
      "100%|███████████████████████████████████████████| 5/5 [00:00<00:00, 2890.23it/s]\n",
      "100%|███████████████████████████████████████████| 4/4 [00:00<00:00, 2719.16it/s]\n",
      "100%|███████████████████████████████████████████| 4/4 [00:00<00:00, 2969.42it/s]\n",
      "100%|███████████████████████████████████████████| 5/5 [00:00<00:00, 3039.79it/s]\n",
      "100%|███████████████████████████████████████████| 6/6 [00:00<00:00, 3181.12it/s]\n",
      "100%|███████████████████████████████████████████| 5/5 [00:00<00:00, 2995.93it/s]\n",
      "100%|███████████████████████████████████████████| 4/4 [00:00<00:00, 3081.78it/s]\n",
      "100%|███████████████████████████████████████████| 3/3 [00:00<00:00, 2478.90it/s]\n",
      "100%|███████████████████████████████████████████| 4/4 [00:00<00:00, 2668.13it/s]\n",
      "100%|███████████████████████████████████████████| 6/6 [00:00<00:00, 3198.10it/s]\n",
      "100%|███████████████████████████████████████████| 6/6 [00:00<00:00, 3470.19it/s]\n",
      "100%|███████████████████████████████████████████| 7/7 [00:00<00:00, 3593.65it/s]\n",
      "100%|███████████████████████████████████████████| 6/6 [00:00<00:00, 2895.62it/s]\n",
      "100%|███████████████████████████████████████████| 4/4 [00:00<00:00, 3102.87it/s]\n",
      "100%|███████████████████████████████████████████| 4/4 [00:00<00:00, 2754.88it/s]\n",
      "100%|███████████████████████████████████████████| 4/4 [00:00<00:00, 2753.07it/s]\n",
      "100%|███████████████████████████████████████████| 4/4 [00:00<00:00, 3552.99it/s]\n",
      "100%|███████████████████████████████████████████| 4/4 [00:00<00:00, 2877.74it/s]\n",
      "100%|███████████████████████████████████████████| 4/4 [00:00<00:00, 3122.50it/s]\n",
      "100%|███████████████████████████████████████████| 4/4 [00:00<00:00, 2976.27it/s]\n",
      "100%|███████████████████████████████████████████| 5/5 [00:00<00:00, 2969.21it/s]\n",
      "100%|███████████████████████████████████████████| 6/6 [00:00<00:00, 3113.81it/s]\n",
      "100%|███████████████████████████████████████████| 6/6 [00:00<00:00, 3605.94it/s]\n",
      "100%|███████████████████████████████████████████| 4/4 [00:00<00:00, 3003.44it/s]\n",
      "100%|███████████████████████████████████████████| 5/5 [00:00<00:00, 3274.24it/s]\n",
      "100%|███████████████████████████████████████████| 4/4 [00:00<00:00, 2930.52it/s]\n",
      "100%|███████████████████████████████████████████| 4/4 [00:00<00:00, 2949.58it/s]\n",
      "100%|███████████████████████████████████████████| 4/4 [00:00<00:00, 2909.18it/s]\n",
      "100%|███████████████████████████████████████████| 4/4 [00:00<00:00, 2482.94it/s]\n",
      "100%|███████████████████████████████████████████| 3/3 [00:00<00:00, 2892.62it/s]\n",
      "100%|███████████████████████████████████████████| 5/5 [00:00<00:00, 2858.71it/s]\n",
      "100%|███████████████████████████████████████████| 5/5 [00:00<00:00, 3004.95it/s]\n",
      "100%|███████████████████████████████████████████| 4/4 [00:00<00:00, 2741.82it/s]\n",
      "100%|███████████████████████████████████████████| 4/4 [00:00<00:00, 2484.41it/s]\n",
      "100%|███████████████████████████████████████████| 4/4 [00:00<00:00, 2589.08it/s]\n",
      "100%|███████████████████████████████████████████| 4/4 [00:00<00:00, 3055.96it/s]\n",
      "100%|███████████████████████████████████████████| 4/4 [00:00<00:00, 2818.75it/s]\n",
      "100%|███████████████████████████████████████████| 5/5 [00:00<00:00, 3008.83it/s]\n",
      "100%|███████████████████████████████████████████| 5/5 [00:00<00:00, 3105.51it/s]\n",
      "100%|███████████████████████████████████████████| 4/4 [00:00<00:00, 2821.12it/s]\n",
      "100%|███████████████████████████████████████████| 4/4 [00:00<00:00, 2440.32it/s]\n",
      "100%|███████████████████████████████████████████| 5/5 [00:00<00:00, 3362.44it/s]\n",
      "100%|███████████████████████████████████████████| 5/5 [00:00<00:00, 2881.49it/s]\n",
      "100%|███████████████████████████████████████████| 4/4 [00:00<00:00, 2617.76it/s]\n",
      "100%|███████████████████████████████████████████| 4/4 [00:00<00:00, 2797.14it/s]\n",
      "100%|███████████████████████████████████████████| 5/5 [00:00<00:00, 3387.42it/s]\n",
      "100%|███████████████████████████████████████████| 6/6 [00:00<00:00, 2793.10it/s]\n",
      "100%|███████████████████████████████████████████| 6/6 [00:00<00:00, 2583.76it/s]\n",
      "100%|███████████████████████████████████████████| 4/4 [00:00<00:00, 2301.40it/s]\n",
      "100%|███████████████████████████████████████████| 4/4 [00:00<00:00, 2475.25it/s]\n",
      "100%|███████████████████████████████████████████| 4/4 [00:00<00:00, 2544.32it/s]\n",
      "100%|███████████████████████████████████████████| 6/6 [00:00<00:00, 2906.99it/s]\n",
      "100%|███████████████████████████████████████████| 5/5 [00:00<00:00, 2602.89it/s]\n",
      "100%|███████████████████████████████████████████| 4/4 [00:00<00:00, 2629.25it/s]\n",
      "100%|███████████████████████████████████████████| 5/5 [00:00<00:00, 2485.96it/s]\n",
      "100%|███████████████████████████████████████████| 4/4 [00:00<00:00, 2384.82it/s]\n",
      "100%|███████████████████████████████████████████| 4/4 [00:00<00:00, 2726.67it/s]\n",
      "100%|███████████████████████████████████████████| 5/5 [00:00<00:00, 2609.70it/s]\n",
      "100%|███████████████████████████████████████████| 5/5 [00:00<00:00, 2956.65it/s]\n",
      "100%|███████████████████████████████████████████| 4/4 [00:00<00:00, 2595.89it/s]\n",
      "100%|███████████████████████████████████████████| 6/6 [00:00<00:00, 3243.02it/s]\n",
      "100%|███████████████████████████████████████████| 4/4 [00:00<00:00, 2570.43it/s]\n",
      "100%|███████████████████████████████████████████| 4/4 [00:00<00:00, 3057.63it/s]\n",
      "100%|███████████████████████████████████████████| 4/4 [00:00<00:00, 2910.69it/s]\n",
      "100%|███████████████████████████████████████████| 4/4 [00:00<00:00, 2909.18it/s]\n",
      "100%|███████████████████████████████████████████| 4/4 [00:00<00:00, 2585.88it/s]\n",
      "100%|███████████████████████████████████████████| 4/4 [00:00<00:00, 2361.33it/s]\n",
      "100%|███████████████████████████████████████████| 4/4 [00:00<00:00, 2458.20it/s]\n",
      "100%|███████████████████████████████████████████| 4/4 [00:00<00:00, 2402.58it/s]\n",
      "100%|███████████████████████████████████████████| 4/4 [00:00<00:00, 2455.68it/s]\n",
      "100%|███████████████████████████████████████████| 4/4 [00:00<00:00, 2577.15it/s]\n",
      "100%|███████████████████████████████████████████| 4/4 [00:00<00:00, 2295.10it/s]\n",
      "100%|███████████████████████████████████████████| 4/4 [00:00<00:00, 2801.34it/s]\n",
      "100%|███████████████████████████████████████████| 4/4 [00:00<00:00, 2643.75it/s]\n",
      "100%|███████████████████████████████████████████| 4/4 [00:00<00:00, 2832.55it/s]\n",
      "100%|███████████████████████████████████████████| 6/6 [00:00<00:00, 3387.97it/s]\n",
      "100%|███████████████████████████████████████████| 4/4 [00:00<00:00, 2909.18it/s]\n",
      "100%|███████████████████████████████████████████| 6/6 [00:00<00:00, 3541.49it/s]\n",
      "100%|███████████████████████████████████████████| 4/4 [00:00<00:00, 2668.56it/s]\n",
      "100%|███████████████████████████████████████████| 4/4 [00:00<00:00, 2810.72it/s]\n",
      "100%|███████████████████████████████████████████| 4/4 [00:00<00:00, 3294.82it/s]\n",
      "100%|███████████████████████████████████████████| 4/4 [00:00<00:00, 3103.44it/s]\n",
      "100%|███████████████████████████████████████████| 7/7 [00:00<00:00, 3210.86it/s]\n",
      "100%|███████████████████████████████████████████| 5/5 [00:00<00:00, 3131.01it/s]\n",
      "100%|███████████████████████████████████████████| 6/6 [00:00<00:00, 2809.00it/s]\n",
      "100%|███████████████████████████████████████████| 4/4 [00:00<00:00, 3472.11it/s]\n",
      "100%|███████████████████████████████████████████| 4/4 [00:00<00:00, 3147.10it/s]\n",
      "100%|███████████████████████████████████████████| 4/4 [00:00<00:00, 2997.00it/s]\n",
      "100%|███████████████████████████████████████████| 4/4 [00:00<00:00, 3030.02it/s]\n",
      "100%|███████████████████████████████████████████| 4/4 [00:00<00:00, 2499.96it/s]\n",
      "100%|███████████████████████████████████████████| 4/4 [00:00<00:00, 2879.71it/s]\n",
      "100%|███████████████████████████████████████████| 4/4 [00:00<00:00, 3050.40it/s]\n",
      "100%|███████████████████████████████████████████| 4/4 [00:00<00:00, 2715.64it/s]\n",
      "100%|███████████████████████████████████████████| 7/7 [00:00<00:00, 3725.43it/s]\n",
      "100%|███████████████████████████████████████████| 4/4 [00:00<00:00, 3220.20it/s]\n",
      "100%|███████████████████████████████████████████| 8/8 [00:00<00:00, 3240.41it/s]\n",
      "100%|███████████████████████████████████████████| 6/6 [00:00<00:00, 3136.71it/s]\n",
      "100%|███████████████████████████████████████████| 4/4 [00:00<00:00, 3154.80it/s]\n",
      "100%|███████████████████████████████████████████| 5/5 [00:00<00:00, 3176.54it/s]\n",
      "100%|███████████████████████████████████████████| 4/4 [00:00<00:00, 2531.65it/s]\n",
      "100%|███████████████████████████████████████████| 4/4 [00:00<00:00, 3137.10it/s]\n",
      "100%|███████████████████████████████████████████| 4/4 [00:00<00:00, 3064.89it/s]\n",
      "100%|███████████████████████████████████████████| 5/5 [00:00<00:00, 3455.51it/s]\n",
      "100%|███████████████████████████████████████████| 4/4 [00:00<00:00, 2937.19it/s]\n",
      "100%|███████████████████████████████████████████| 4/4 [00:00<00:00, 3154.80it/s]\n",
      "100%|███████████████████████████████████████████| 4/4 [00:00<00:00, 2919.81it/s]\n",
      "100%|███████████████████████████████████████████| 4/4 [00:00<00:00, 3179.91it/s]\n",
      "100%|███████████████████████████████████████████| 5/5 [00:00<00:00, 3349.01it/s]\n",
      "100%|███████████████████████████████████████████| 4/4 [00:00<00:00, 2704.69it/s]\n",
      "100%|███████████████████████████████████████████| 5/5 [00:00<00:00, 3052.18it/s]\n",
      "100%|███████████████████████████████████████████| 4/4 [00:00<00:00, 3169.10it/s]\n",
      "100%|███████████████████████████████████████████| 4/4 [00:00<00:00, 2958.94it/s]\n",
      "100%|███████████████████████████████████████████| 4/4 [00:00<00:00, 3055.96it/s]\n",
      "100%|███████████████████████████████████████████| 4/4 [00:00<00:00, 3410.00it/s]\n",
      "100%|███████████████████████████████████████████| 4/4 [00:00<00:00, 3199.93it/s]\n",
      "100%|███████████████████████████████████████████| 4/4 [00:00<00:00, 2845.04it/s]\n",
      "100%|███████████████████████████████████████████| 4/4 [00:00<00:00, 2892.12it/s]\n",
      "100%|███████████████████████████████████████████| 4/4 [00:00<00:00, 2991.66it/s]\n",
      "100%|███████████████████████████████████████████| 4/4 [00:00<00:00, 2913.22it/s]\n",
      "100%|███████████████████████████████████████████| 4/4 [00:00<00:00, 2740.03it/s]\n",
      "100%|███████████████████████████████████████████| 4/4 [00:00<00:00, 3228.25it/s]\n",
      "100%|███████████████████████████████████████████| 4/4 [00:00<00:00, 3021.29it/s]\n",
      "100%|███████████████████████████████████████████| 5/5 [00:00<00:00, 3074.55it/s]\n",
      "100%|███████████████████████████████████████████| 4/4 [00:00<00:00, 3133.00it/s]\n",
      "100%|███████████████████████████████████████████| 6/6 [00:00<00:00, 3579.78it/s]\n",
      "100%|███████████████████████████████████████████| 5/5 [00:00<00:00, 3090.41it/s]\n",
      "100%|███████████████████████████████████████████| 5/5 [00:00<00:00, 3396.75it/s]\n",
      "100%|█████████████████████████████████████| 2094/2094 [00:01<00:00, 1629.41it/s]\n"
     ]
    }
   ],
   "source": [
    "vest_base = do_smart_repair(vest_base, min_rook_length = 30)"
   ]
  },
  {
   "cell_type": "code",
   "execution_count": 31,
   "metadata": {},
   "outputs": [
    {
     "name": "stderr",
     "output_type": "stream",
     "text": [
      "100%|█████████████████████████████████████| 2094/2094 [00:01<00:00, 1574.84it/s]\n"
     ]
    },
    {
     "data": {
      "text/plain": [
       "True"
      ]
     },
     "execution_count": 31,
     "metadata": {},
     "output_type": "execute_result"
    }
   ],
   "source": [
    "maup.doctor(vest_base)"
   ]
  },
  {
   "cell_type": "code",
   "execution_count": 32,
   "metadata": {},
   "outputs": [
    {
     "name": "stderr",
     "output_type": "stream",
     "text": [
      "100%|█████████████████████████████████████| 2094/2094 [00:01<00:00, 1689.20it/s]\n",
      "100%|██████████████████████████████████████| 2094/2094 [00:04<00:00, 419.42it/s]\n"
     ]
    }
   ],
   "source": [
    "# vap and population have the same GEOID20\n",
    "blocks_to_precincts_assignment = maup.assign(population_df.geometry, vest_base.geometry)"
   ]
  },
  {
   "cell_type": "code",
   "execution_count": 33,
   "metadata": {},
   "outputs": [],
   "source": [
    "vest_base[pop_col] = population_df[pop_col].groupby(blocks_to_precincts_assignment).sum()"
   ]
  },
  {
   "cell_type": "code",
   "execution_count": 34,
   "metadata": {},
   "outputs": [],
   "source": [
    "election_df = gpd.GeoDataFrame(vest_base)"
   ]
  },
  {
   "cell_type": "code",
   "execution_count": 35,
   "metadata": {},
   "outputs": [
    {
     "data": {
      "text/plain": [
       "Index(['COUNTY', 'COUNTYFP', 'NAME', 'PRE20D', 'PRE20O', 'PRE20R', 'STATEFP',\n",
       "       'VTDST', 'geometry', 'TOTPOP', 'HISP', 'NH_WHITE', 'NH_BLACK',\n",
       "       'NH_AMIN', 'NH_ASIAN', 'NH_NHPI', 'NH_OTHER', 'NH_2MORE', 'H_WHITE',\n",
       "       'H_BLACK', 'H_AMIN', 'H_ASIAN', 'H_NHPI', 'H_OTHER', 'H_2MORE', 'VAP',\n",
       "       'HVAP', 'WVAP', 'BVAP', 'AMINVAP', 'ASIANVAP', 'NHPIVAP', 'OTHERVAP',\n",
       "       '2MOREVAP'],\n",
       "      dtype='object')"
      ]
     },
     "execution_count": 35,
     "metadata": {},
     "output_type": "execute_result"
    }
   ],
   "source": [
    "election_df.columns"
   ]
  },
  {
   "cell_type": "markdown",
   "metadata": {},
   "source": [
    "## Check if population agrees"
   ]
  },
  {
   "cell_type": "code",
   "execution_count": 37,
   "metadata": {},
   "outputs": [
    {
     "name": "stdout",
     "output_type": "stream",
     "text": [
      "population agrees\n"
     ]
    }
   ],
   "source": [
    "check_population(population_df, vest_base)"
   ]
  },
  {
   "cell_type": "markdown",
   "metadata": {},
   "source": [
    "## Add more vest data"
   ]
  },
  {
   "cell_type": "code",
   "execution_count": 39,
   "metadata": {},
   "outputs": [],
   "source": [
    "vest18 = gpd.read_file(vest18_data)\n",
    "vest16 = gpd.read_file(vest16_data)"
   ]
  },
  {
   "cell_type": "code",
   "execution_count": 40,
   "metadata": {},
   "outputs": [
    {
     "data": {
      "text/plain": [
       "Index(['STATEFP', 'COUNTYFP', 'COUNTY', 'VTDST', 'NAME', 'G18USSDROS',\n",
       "       'G18USSRHEL', 'G18USSLHAG', 'G18USSIBAK', 'G18USSNMIC', 'G18USSONON',\n",
       "       'G18GOVDSIS', 'G18GOVRLAX', 'G18GOVLLOR', 'G18GOVIBES', 'G18GOVNBUN',\n",
       "       'G18GOVONON', 'G18LTGDMAR', 'G18LTGRROB', 'G18LTGIHAN', 'G18LTGNUEH',\n",
       "       'G18LTGONON', 'G18ATGDFOR', 'G18ATGRDUN', 'G18ATGIHAN', 'G18ATGONON',\n",
       "       'G18SOSDARA', 'G18SOSRCEG', 'G18SOSONON', 'G18TREDCON', 'G18TRERBEE',\n",
       "       'G18TREIHOG', 'G18TREONON', 'G18CONDBYR', 'G18CONRKNE', 'G18CONONON',\n",
       "       'geometry'],\n",
       "      dtype='object')"
      ]
     },
     "execution_count": 40,
     "metadata": {},
     "output_type": "execute_result"
    }
   ],
   "source": [
    "vest18.columns"
   ]
  },
  {
   "cell_type": "code",
   "execution_count": 41,
   "metadata": {},
   "outputs": [
    {
     "data": {
      "text/plain": [
       "Index(['STATEFP', 'COUNTYFP', 'COUNTY', 'VTDST', 'NAME', 'G16PREDCLI',\n",
       "       'G16PRERTRU', 'G16PRELJOH', 'G16PREICAS', 'G16PRENDEL', 'G16PREONON',\n",
       "       'G16USSDCOR', 'G16USSRHEC', 'G16USSIJON', 'G16USSNSAW', 'G16USSNGUM',\n",
       "       'G16USSNWIL', 'G16USSONON', 'geometry'],\n",
       "      dtype='object')"
      ]
     },
     "execution_count": 41,
     "metadata": {},
     "output_type": "execute_result"
    }
   ],
   "source": [
    "vest16.columns"
   ]
  },
  {
   "cell_type": "code",
   "execution_count": 42,
   "metadata": {},
   "outputs": [
    {
     "name": "stderr",
     "output_type": "stream",
     "text": [
      "100%|█████████████████████████████████████| 2071/2071 [00:01<00:00, 1548.14it/s]\n"
     ]
    },
    {
     "name": "stdout",
     "output_type": "stream",
     "text": [
      "There are 827 overlaps.\n",
      "There are 2515 holes.\n",
      "Snapping all geometries to a grid with precision 10^( -5 ) to avoid GEOS errors.\n",
      "Identifying overlaps...\n"
     ]
    },
    {
     "name": "stderr",
     "output_type": "stream",
     "text": [
      "100%|█████████████████████████████████████| 7560/7560 [00:02<00:00, 3326.08it/s]\n"
     ]
    },
    {
     "name": "stdout",
     "output_type": "stream",
     "text": [
      "Resolving overlaps...\n",
      "Assigning order 2 pieces...\n",
      "Assigning order 3 pieces...\n",
      "Filling gaps...\n"
     ]
    },
    {
     "name": "stderr",
     "output_type": "stream",
     "text": [
      "Gaps to simplify: 2858it [08:02,  5.92it/s]                                     \n",
      "Gaps to fill: 100%|███████████████████████████| 292/292 [00:44<00:00,  6.52it/s]\n",
      "100%|█████████████████████████████████████| 2071/2071 [00:01<00:00, 1532.04it/s]\n",
      "100%|█████████████████████████████████████| 2071/2071 [00:01<00:00, 1669.26it/s]\n",
      "100%|██████████████████████████████████████| 2071/2071 [00:05<00:00, 412.42it/s]\n",
      "100%|█████████████████████████████████████| 2094/2094 [00:01<00:00, 1735.45it/s]\n",
      "100%|██████████████████████████████████████| 2094/2094 [00:04<00:00, 419.32it/s]\n"
     ]
    },
    {
     "name": "stdout",
     "output_type": "stream",
     "text": [
      "population agrees\n"
     ]
    }
   ],
   "source": [
    "# check the result here\n",
    "election_df = add_vest(vest18, election_df, '18', population_df, 5)"
   ]
  },
  {
   "cell_type": "code",
   "execution_count": 43,
   "metadata": {},
   "outputs": [
    {
     "data": {
      "text/plain": [
       "Index(['2MOREVAP', 'AMINVAP', 'ASIANVAP', 'ATG18D', 'ATG18O', 'ATG18R', 'BVAP',\n",
       "       'CON18D', 'CON18O', 'CON18R', 'COUNTY', 'COUNTYFP', 'GOV18D', 'GOV18O',\n",
       "       'GOV18R', 'HISP', 'HVAP', 'H_2MORE', 'H_AMIN', 'H_ASIAN', 'H_BLACK',\n",
       "       'H_NHPI', 'H_OTHER', 'H_WHITE', 'LTG18D', 'LTG18O', 'LTG18R', 'NAME',\n",
       "       'NHPIVAP', 'NH_2MORE', 'NH_AMIN', 'NH_ASIAN', 'NH_BLACK', 'NH_NHPI',\n",
       "       'NH_OTHER', 'NH_WHITE', 'OTHERVAP', 'PRE20D', 'PRE20O', 'PRE20R',\n",
       "       'SOS18D', 'SOS18O', 'SOS18R', 'STATEFP', 'TOTPOP', 'TRE18D', 'TRE18O',\n",
       "       'TRE18R', 'USS18D', 'USS18O', 'USS18R', 'VAP', 'VTDST', 'WVAP',\n",
       "       'geometry'],\n",
       "      dtype='object')"
      ]
     },
     "execution_count": 43,
     "metadata": {},
     "output_type": "execute_result"
    }
   ],
   "source": [
    "election_df.columns"
   ]
  },
  {
   "cell_type": "code",
   "execution_count": 44,
   "metadata": {},
   "outputs": [
    {
     "name": "stderr",
     "output_type": "stream",
     "text": [
      "100%|█████████████████████████████████████| 2067/2067 [00:01<00:00, 1607.04it/s]\n"
     ]
    },
    {
     "name": "stdout",
     "output_type": "stream",
     "text": [
      "There are 872 overlaps.\n",
      "There are 3377 holes.\n",
      "Snapping all geometries to a grid with precision 10^( -5 ) to avoid GEOS errors.\n",
      "Identifying overlaps...\n"
     ]
    },
    {
     "name": "stderr",
     "output_type": "stream",
     "text": [
      "100%|█████████████████████████████████████| 8373/8373 [00:02<00:00, 3348.12it/s]\n"
     ]
    },
    {
     "name": "stdout",
     "output_type": "stream",
     "text": [
      "Resolving overlaps...\n",
      "Assigning order 2 pieces...\n",
      "Assigning order 3 pieces...\n",
      "Filling gaps...\n"
     ]
    },
    {
     "name": "stderr",
     "output_type": "stream",
     "text": [
      "Gaps to simplify: 3228it [19:03,  2.82it/s]                                     \n",
      "Gaps to fill: 100%|███████████████████████████| 387/387 [00:59<00:00,  6.50it/s]\n",
      "100%|█████████████████████████████████████| 2067/2067 [00:01<00:00, 1635.90it/s]\n",
      "100%|█████████████████████████████████████| 2067/2067 [00:01<00:00, 1707.62it/s]\n",
      "100%|██████████████████████████████████████| 2067/2067 [00:05<00:00, 409.24it/s]\n",
      "100%|█████████████████████████████████████| 2094/2094 [00:01<00:00, 1864.79it/s]\n",
      "100%|██████████████████████████████████████| 2094/2094 [00:05<00:00, 416.29it/s]\n"
     ]
    },
    {
     "name": "stdout",
     "output_type": "stream",
     "text": [
      "population agrees\n"
     ]
    }
   ],
   "source": [
    "election_df = add_vest(vest16, election_df, '16', population_df, 5)"
   ]
  },
  {
   "cell_type": "markdown",
   "metadata": {},
   "source": [
    "##  Add the district data"
   ]
  },
  {
   "cell_type": "code",
   "execution_count": 46,
   "metadata": {},
   "outputs": [],
   "source": [
    "cong_df = gpd.read_file(cd_data)\n",
    "cong_df = cong_df.to_crs(cong_df.estimate_utm_crs())\n",
    "send = gpd.read_file(send_data)\n",
    "send = send.to_crs(send.estimate_utm_crs())\n",
    "hdist = gpd.read_file(hdist_data)\n",
    "hdist = hdist.to_crs(hdist.estimate_utm_crs())"
   ]
  },
  {
   "cell_type": "code",
   "execution_count": 47,
   "metadata": {},
   "outputs": [
    {
     "data": {
      "text/html": [
       "<div>\n",
       "<style scoped>\n",
       "    .dataframe tbody tr th:only-of-type {\n",
       "        vertical-align: middle;\n",
       "    }\n",
       "\n",
       "    .dataframe tbody tr th {\n",
       "        vertical-align: top;\n",
       "    }\n",
       "\n",
       "    .dataframe thead th {\n",
       "        text-align: right;\n",
       "    }\n",
       "</style>\n",
       "<table border=\"1\" class=\"dataframe\">\n",
       "  <thead>\n",
       "    <tr style=\"text-align: right;\">\n",
       "      <th></th>\n",
       "      <th>DISTRICTNO</th>\n",
       "      <th>ADJPOP</th>\n",
       "      <th>TAWHITEALN</th>\n",
       "      <th>TABLACKCMB</th>\n",
       "      <th>TAAIANCMB</th>\n",
       "      <th>TAASIANCMB</th>\n",
       "      <th>TANHOPICMB</th>\n",
       "      <th>TAOTHERALN</th>\n",
       "      <th>TA2RACE</th>\n",
       "      <th>TAHISPANIC</th>\n",
       "      <th>...</th>\n",
       "      <th>AG18_OTH</th>\n",
       "      <th>SOS18_TOTA</th>\n",
       "      <th>SOS18_DEM</th>\n",
       "      <th>SOS18_REP</th>\n",
       "      <th>SOS18_OTH</th>\n",
       "      <th>PRES16_TOT</th>\n",
       "      <th>PRES16_DEM</th>\n",
       "      <th>PRES16_REP</th>\n",
       "      <th>PRES16_OTH</th>\n",
       "      <th>geometry</th>\n",
       "    </tr>\n",
       "  </thead>\n",
       "  <tbody>\n",
       "    <tr>\n",
       "      <th>0</th>\n",
       "      <td>1.0</td>\n",
       "      <td>776153.0</td>\n",
       "      <td>354538.0</td>\n",
       "      <td>100814.0</td>\n",
       "      <td>23644.0</td>\n",
       "      <td>79806.0</td>\n",
       "      <td>12570.0</td>\n",
       "      <td>141719.0</td>\n",
       "      <td>119860.0</td>\n",
       "      <td>278903.0</td>\n",
       "      <td>...</td>\n",
       "      <td>12355.0</td>\n",
       "      <td>217447.0</td>\n",
       "      <td>112752.0</td>\n",
       "      <td>98140.0</td>\n",
       "      <td>6561.0</td>\n",
       "      <td>262162.0</td>\n",
       "      <td>136328.0</td>\n",
       "      <td>110157.0</td>\n",
       "      <td>15675.0</td>\n",
       "      <td>POLYGON ((660969.105 3974025.168, 661211.168 3...</td>\n",
       "    </tr>\n",
       "    <tr>\n",
       "      <th>1</th>\n",
       "      <td>2.0</td>\n",
       "      <td>776154.0</td>\n",
       "      <td>525157.0</td>\n",
       "      <td>25210.0</td>\n",
       "      <td>38061.0</td>\n",
       "      <td>48366.0</td>\n",
       "      <td>8339.0</td>\n",
       "      <td>83727.0</td>\n",
       "      <td>95806.0</td>\n",
       "      <td>179909.0</td>\n",
       "      <td>...</td>\n",
       "      <td>21133.0</td>\n",
       "      <td>296142.0</td>\n",
       "      <td>121192.0</td>\n",
       "      <td>166905.0</td>\n",
       "      <td>8050.0</td>\n",
       "      <td>332733.0</td>\n",
       "      <td>130319.0</td>\n",
       "      <td>174874.0</td>\n",
       "      <td>27546.0</td>\n",
       "      <td>POLYGON ((240435.856 4339454.035, 240470.001 4...</td>\n",
       "    </tr>\n",
       "    <tr>\n",
       "      <th>2</th>\n",
       "      <td>3.0</td>\n",
       "      <td>776153.0</td>\n",
       "      <td>373902.0</td>\n",
       "      <td>98120.0</td>\n",
       "      <td>18587.0</td>\n",
       "      <td>163953.0</td>\n",
       "      <td>18203.0</td>\n",
       "      <td>70274.0</td>\n",
       "      <td>102932.0</td>\n",
       "      <td>164069.0</td>\n",
       "      <td>...</td>\n",
       "      <td>12256.0</td>\n",
       "      <td>233159.0</td>\n",
       "      <td>118435.0</td>\n",
       "      <td>108595.0</td>\n",
       "      <td>6147.0</td>\n",
       "      <td>275077.0</td>\n",
       "      <td>138958.0</td>\n",
       "      <td>120464.0</td>\n",
       "      <td>15654.0</td>\n",
       "      <td>POLYGON ((603868.870 3997901.943, 603868.757 3...</td>\n",
       "    </tr>\n",
       "    <tr>\n",
       "      <th>3</th>\n",
       "      <td>4.0</td>\n",
       "      <td>776154.0</td>\n",
       "      <td>334866.0</td>\n",
       "      <td>151054.0</td>\n",
       "      <td>25498.0</td>\n",
       "      <td>61468.0</td>\n",
       "      <td>13420.0</td>\n",
       "      <td>140037.0</td>\n",
       "      <td>115411.0</td>\n",
       "      <td>267376.0</td>\n",
       "      <td>...</td>\n",
       "      <td>12071.0</td>\n",
       "      <td>209709.0</td>\n",
       "      <td>109055.0</td>\n",
       "      <td>94189.0</td>\n",
       "      <td>6436.0</td>\n",
       "      <td>252072.0</td>\n",
       "      <td>131689.0</td>\n",
       "      <td>105379.0</td>\n",
       "      <td>15001.0</td>\n",
       "      <td>POLYGON ((296137.760 4297318.337, 296139.365 4...</td>\n",
       "    </tr>\n",
       "  </tbody>\n",
       "</table>\n",
       "<p>4 rows × 33 columns</p>\n",
       "</div>"
      ],
      "text/plain": [
       "   DISTRICTNO    ADJPOP  TAWHITEALN  TABLACKCMB  TAAIANCMB  TAASIANCMB  \\\n",
       "0         1.0  776153.0    354538.0    100814.0    23644.0     79806.0   \n",
       "1         2.0  776154.0    525157.0     25210.0    38061.0     48366.0   \n",
       "2         3.0  776153.0    373902.0     98120.0    18587.0    163953.0   \n",
       "3         4.0  776154.0    334866.0    151054.0    25498.0     61468.0   \n",
       "\n",
       "   TANHOPICMB  TAOTHERALN   TA2RACE  TAHISPANIC  ...  AG18_OTH  SOS18_TOTA  \\\n",
       "0     12570.0    141719.0  119860.0    278903.0  ...   12355.0    217447.0   \n",
       "1      8339.0     83727.0   95806.0    179909.0  ...   21133.0    296142.0   \n",
       "2     18203.0     70274.0  102932.0    164069.0  ...   12256.0    233159.0   \n",
       "3     13420.0    140037.0  115411.0    267376.0  ...   12071.0    209709.0   \n",
       "\n",
       "   SOS18_DEM  SOS18_REP  SOS18_OTH  PRES16_TOT  PRES16_DEM  PRES16_REP  \\\n",
       "0   112752.0    98140.0     6561.0    262162.0    136328.0    110157.0   \n",
       "1   121192.0   166905.0     8050.0    332733.0    130319.0    174874.0   \n",
       "2   118435.0   108595.0     6147.0    275077.0    138958.0    120464.0   \n",
       "3   109055.0    94189.0     6436.0    252072.0    131689.0    105379.0   \n",
       "\n",
       "   PRES16_OTH                                           geometry  \n",
       "0     15675.0  POLYGON ((660969.105 3974025.168, 661211.168 3...  \n",
       "1     27546.0  POLYGON ((240435.856 4339454.035, 240470.001 4...  \n",
       "2     15654.0  POLYGON ((603868.870 3997901.943, 603868.757 3...  \n",
       "3     15001.0  POLYGON ((296137.760 4297318.337, 296139.365 4...  \n",
       "\n",
       "[4 rows x 33 columns]"
      ]
     },
     "execution_count": 47,
     "metadata": {},
     "output_type": "execute_result"
    }
   ],
   "source": [
    "cong_df.head()"
   ]
  },
  {
   "cell_type": "code",
   "execution_count": 48,
   "metadata": {},
   "outputs": [
    {
     "name": "stderr",
     "output_type": "stream",
     "text": [
      "100%|████████████████████████████████████████████| 4/4 [00:00<00:00, 181.60it/s]\n",
      "100%|████████████████████████████████████████████| 4/4 [00:00<00:00, 139.91it/s]\n",
      "100%|█████████████████████████████████████████████| 4/4 [00:00<00:00, 27.01it/s]\n"
     ]
    }
   ],
   "source": [
    "election_df = add_district(cong_df, \"CD\", election_df, \"DISTRICTNO\")"
   ]
  },
  {
   "cell_type": "code",
   "execution_count": 49,
   "metadata": {},
   "outputs": [
    {
     "data": {
      "text/html": [
       "<div>\n",
       "<style scoped>\n",
       "    .dataframe tbody tr th:only-of-type {\n",
       "        vertical-align: middle;\n",
       "    }\n",
       "\n",
       "    .dataframe tbody tr th {\n",
       "        vertical-align: top;\n",
       "    }\n",
       "\n",
       "    .dataframe thead th {\n",
       "        text-align: right;\n",
       "    }\n",
       "</style>\n",
       "<table border=\"1\" class=\"dataframe\">\n",
       "  <thead>\n",
       "    <tr style=\"text-align: right;\">\n",
       "      <th></th>\n",
       "      <th>DISTRICTNO</th>\n",
       "      <th>ADJPOP</th>\n",
       "      <th>TAWHITEALN</th>\n",
       "      <th>TABLACKCMB</th>\n",
       "      <th>TAAIANCMB</th>\n",
       "      <th>TAASIANCMB</th>\n",
       "      <th>TANHOPICMB</th>\n",
       "      <th>TAOTHERALN</th>\n",
       "      <th>TA2RACE</th>\n",
       "      <th>TAHISPANIC</th>\n",
       "      <th>...</th>\n",
       "      <th>AG18_OTH</th>\n",
       "      <th>SOS18_TOTA</th>\n",
       "      <th>SOS18_DEM</th>\n",
       "      <th>SOS18_REP</th>\n",
       "      <th>SOS18_OTH</th>\n",
       "      <th>PRES16_TOT</th>\n",
       "      <th>PRES16_DEM</th>\n",
       "      <th>PRES16_REP</th>\n",
       "      <th>PRES16_OTH</th>\n",
       "      <th>geometry</th>\n",
       "    </tr>\n",
       "  </thead>\n",
       "  <tbody>\n",
       "    <tr>\n",
       "      <th>0</th>\n",
       "      <td>1.0</td>\n",
       "      <td>148528.0</td>\n",
       "      <td>55907.0</td>\n",
       "      <td>39774.0</td>\n",
       "      <td>4220.0</td>\n",
       "      <td>17452.0</td>\n",
       "      <td>3583.0</td>\n",
       "      <td>19810.0</td>\n",
       "      <td>23798.0</td>\n",
       "      <td>43370.0</td>\n",
       "      <td>...</td>\n",
       "      <td>1998.0</td>\n",
       "      <td>39528.0</td>\n",
       "      <td>23405.0</td>\n",
       "      <td>15030.0</td>\n",
       "      <td>1099.0</td>\n",
       "      <td>47483.0</td>\n",
       "      <td>27388.0</td>\n",
       "      <td>17139.0</td>\n",
       "      <td>2952.0</td>\n",
       "      <td>POLYGON ((658899.403 4022527.501, 658939.707 4...</td>\n",
       "    </tr>\n",
       "    <tr>\n",
       "      <th>1</th>\n",
       "      <td>2.0</td>\n",
       "      <td>149050.0</td>\n",
       "      <td>34767.0</td>\n",
       "      <td>24267.0</td>\n",
       "      <td>5268.0</td>\n",
       "      <td>5682.0</td>\n",
       "      <td>1266.0</td>\n",
       "      <td>58798.0</td>\n",
       "      <td>26035.0</td>\n",
       "      <td>96390.0</td>\n",
       "      <td>...</td>\n",
       "      <td>1381.0</td>\n",
       "      <td>19753.0</td>\n",
       "      <td>14368.0</td>\n",
       "      <td>4634.0</td>\n",
       "      <td>753.0</td>\n",
       "      <td>27697.0</td>\n",
       "      <td>20379.0</td>\n",
       "      <td>5854.0</td>\n",
       "      <td>1469.0</td>\n",
       "      <td>POLYGON ((665018.185 4003129.747, 665018.254 4...</td>\n",
       "    </tr>\n",
       "    <tr>\n",
       "      <th>2</th>\n",
       "      <td>3.0</td>\n",
       "      <td>148851.0</td>\n",
       "      <td>58337.0</td>\n",
       "      <td>25773.0</td>\n",
       "      <td>4680.0</td>\n",
       "      <td>12864.0</td>\n",
       "      <td>2395.0</td>\n",
       "      <td>33248.0</td>\n",
       "      <td>22103.0</td>\n",
       "      <td>59602.0</td>\n",
       "      <td>...</td>\n",
       "      <td>2269.0</td>\n",
       "      <td>38024.0</td>\n",
       "      <td>21155.0</td>\n",
       "      <td>15710.0</td>\n",
       "      <td>1135.0</td>\n",
       "      <td>47775.0</td>\n",
       "      <td>26699.0</td>\n",
       "      <td>18225.0</td>\n",
       "      <td>2846.0</td>\n",
       "      <td>POLYGON ((654630.085 4012057.890, 654673.566 4...</td>\n",
       "    </tr>\n",
       "    <tr>\n",
       "      <th>3</th>\n",
       "      <td>4.0</td>\n",
       "      <td>148627.0</td>\n",
       "      <td>33841.0</td>\n",
       "      <td>42979.0</td>\n",
       "      <td>4854.0</td>\n",
       "      <td>8343.0</td>\n",
       "      <td>2314.0</td>\n",
       "      <td>42702.0</td>\n",
       "      <td>23218.0</td>\n",
       "      <td>72041.0</td>\n",
       "      <td>...</td>\n",
       "      <td>1740.0</td>\n",
       "      <td>31565.0</td>\n",
       "      <td>22927.0</td>\n",
       "      <td>7461.0</td>\n",
       "      <td>1182.0</td>\n",
       "      <td>40792.0</td>\n",
       "      <td>29919.0</td>\n",
       "      <td>8940.0</td>\n",
       "      <td>1930.0</td>\n",
       "      <td>POLYGON ((659395.308 4011273.032, 659407.730 4...</td>\n",
       "    </tr>\n",
       "    <tr>\n",
       "      <th>4</th>\n",
       "      <td>5.0</td>\n",
       "      <td>149268.0</td>\n",
       "      <td>89420.0</td>\n",
       "      <td>15951.0</td>\n",
       "      <td>4395.0</td>\n",
       "      <td>18124.0</td>\n",
       "      <td>2968.0</td>\n",
       "      <td>11040.0</td>\n",
       "      <td>20765.0</td>\n",
       "      <td>30539.0</td>\n",
       "      <td>...</td>\n",
       "      <td>2888.0</td>\n",
       "      <td>51512.0</td>\n",
       "      <td>24062.0</td>\n",
       "      <td>25944.0</td>\n",
       "      <td>1502.0</td>\n",
       "      <td>59074.0</td>\n",
       "      <td>26921.0</td>\n",
       "      <td>28285.0</td>\n",
       "      <td>3873.0</td>\n",
       "      <td>POLYGON ((669530.994 3986975.926, 669530.970 3...</td>\n",
       "    </tr>\n",
       "  </tbody>\n",
       "</table>\n",
       "<p>5 rows × 33 columns</p>\n",
       "</div>"
      ],
      "text/plain": [
       "   DISTRICTNO    ADJPOP  TAWHITEALN  TABLACKCMB  TAAIANCMB  TAASIANCMB  \\\n",
       "0         1.0  148528.0     55907.0     39774.0     4220.0     17452.0   \n",
       "1         2.0  149050.0     34767.0     24267.0     5268.0      5682.0   \n",
       "2         3.0  148851.0     58337.0     25773.0     4680.0     12864.0   \n",
       "3         4.0  148627.0     33841.0     42979.0     4854.0      8343.0   \n",
       "4         5.0  149268.0     89420.0     15951.0     4395.0     18124.0   \n",
       "\n",
       "   TANHOPICMB  TAOTHERALN  TA2RACE  TAHISPANIC  ...  AG18_OTH  SOS18_TOTA  \\\n",
       "0      3583.0     19810.0  23798.0     43370.0  ...    1998.0     39528.0   \n",
       "1      1266.0     58798.0  26035.0     96390.0  ...    1381.0     19753.0   \n",
       "2      2395.0     33248.0  22103.0     59602.0  ...    2269.0     38024.0   \n",
       "3      2314.0     42702.0  23218.0     72041.0  ...    1740.0     31565.0   \n",
       "4      2968.0     11040.0  20765.0     30539.0  ...    2888.0     51512.0   \n",
       "\n",
       "   SOS18_DEM  SOS18_REP  SOS18_OTH  PRES16_TOT  PRES16_DEM  PRES16_REP  \\\n",
       "0    23405.0    15030.0     1099.0     47483.0     27388.0     17139.0   \n",
       "1    14368.0     4634.0      753.0     27697.0     20379.0      5854.0   \n",
       "2    21155.0    15710.0     1135.0     47775.0     26699.0     18225.0   \n",
       "3    22927.0     7461.0     1182.0     40792.0     29919.0      8940.0   \n",
       "4    24062.0    25944.0     1502.0     59074.0     26921.0     28285.0   \n",
       "\n",
       "   PRES16_OTH                                           geometry  \n",
       "0      2952.0  POLYGON ((658899.403 4022527.501, 658939.707 4...  \n",
       "1      1469.0  POLYGON ((665018.185 4003129.747, 665018.254 4...  \n",
       "2      2846.0  POLYGON ((654630.085 4012057.890, 654673.566 4...  \n",
       "3      1930.0  POLYGON ((659395.308 4011273.032, 659407.730 4...  \n",
       "4      3873.0  POLYGON ((669530.994 3986975.926, 669530.970 3...  \n",
       "\n",
       "[5 rows x 33 columns]"
      ]
     },
     "execution_count": 49,
     "metadata": {},
     "output_type": "execute_result"
    }
   ],
   "source": [
    "send.head()"
   ]
  },
  {
   "cell_type": "code",
   "execution_count": 50,
   "metadata": {},
   "outputs": [
    {
     "name": "stderr",
     "output_type": "stream",
     "text": [
      "100%|██████████████████████████████████████████| 21/21 [00:00<00:00, 305.10it/s]\n",
      "100%|██████████████████████████████████████████| 21/21 [00:00<00:00, 412.13it/s]\n",
      "100%|███████████████████████████████████████████| 21/21 [00:00<00:00, 45.54it/s]\n"
     ]
    }
   ],
   "source": [
    "election_df = add_district(send, \"SEND\", election_df, \"DISTRICTNO\")"
   ]
  },
  {
   "cell_type": "code",
   "execution_count": 51,
   "metadata": {},
   "outputs": [
    {
     "data": {
      "text/html": [
       "<div>\n",
       "<style scoped>\n",
       "    .dataframe tbody tr th:only-of-type {\n",
       "        vertical-align: middle;\n",
       "    }\n",
       "\n",
       "    .dataframe tbody tr th {\n",
       "        vertical-align: top;\n",
       "    }\n",
       "\n",
       "    .dataframe thead th {\n",
       "        text-align: right;\n",
       "    }\n",
       "</style>\n",
       "<table border=\"1\" class=\"dataframe\">\n",
       "  <thead>\n",
       "    <tr style=\"text-align: right;\">\n",
       "      <th></th>\n",
       "      <th>DISTRICTNO</th>\n",
       "      <th>ADJPOP</th>\n",
       "      <th>TAWHITEALN</th>\n",
       "      <th>TABLACKCMB</th>\n",
       "      <th>TAAIANCMB</th>\n",
       "      <th>TAASIANCMB</th>\n",
       "      <th>TANHOPICMB</th>\n",
       "      <th>TAOTHERALN</th>\n",
       "      <th>TA2RACE</th>\n",
       "      <th>TAHISPANIC</th>\n",
       "      <th>...</th>\n",
       "      <th>AG18_OTH</th>\n",
       "      <th>SOS18_TOTA</th>\n",
       "      <th>SOS18_DEM</th>\n",
       "      <th>SOS18_REP</th>\n",
       "      <th>SOS18_OTH</th>\n",
       "      <th>PRES16_TOT</th>\n",
       "      <th>PRES16_DEM</th>\n",
       "      <th>PRES16_REP</th>\n",
       "      <th>PRES16_OTH</th>\n",
       "      <th>geometry</th>\n",
       "    </tr>\n",
       "  </thead>\n",
       "  <tbody>\n",
       "    <tr>\n",
       "      <th>0</th>\n",
       "      <td>1.0</td>\n",
       "      <td>74334.0</td>\n",
       "      <td>32160.0</td>\n",
       "      <td>15828.0</td>\n",
       "      <td>1929.0</td>\n",
       "      <td>9274.0</td>\n",
       "      <td>1839.0</td>\n",
       "      <td>9131.0</td>\n",
       "      <td>11693.0</td>\n",
       "      <td>20399.0</td>\n",
       "      <td>...</td>\n",
       "      <td>1208.0</td>\n",
       "      <td>24031.0</td>\n",
       "      <td>13067.0</td>\n",
       "      <td>10317.0</td>\n",
       "      <td>652.0</td>\n",
       "      <td>28146.0</td>\n",
       "      <td>14970.0</td>\n",
       "      <td>11458.0</td>\n",
       "      <td>1714.0</td>\n",
       "      <td>POLYGON ((658899.403 4022527.501, 658939.707 4...</td>\n",
       "    </tr>\n",
       "    <tr>\n",
       "      <th>1</th>\n",
       "      <td>2.0</td>\n",
       "      <td>74292.0</td>\n",
       "      <td>45074.0</td>\n",
       "      <td>6466.0</td>\n",
       "      <td>1282.0</td>\n",
       "      <td>14164.0</td>\n",
       "      <td>1011.0</td>\n",
       "      <td>3327.0</td>\n",
       "      <td>8614.0</td>\n",
       "      <td>10249.0</td>\n",
       "      <td>...</td>\n",
       "      <td>1276.0</td>\n",
       "      <td>28713.0</td>\n",
       "      <td>12862.0</td>\n",
       "      <td>15195.0</td>\n",
       "      <td>657.0</td>\n",
       "      <td>33041.0</td>\n",
       "      <td>15293.0</td>\n",
       "      <td>16025.0</td>\n",
       "      <td>1723.0</td>\n",
       "      <td>POLYGON ((646995.466 4003125.221, 647093.555 4...</td>\n",
       "    </tr>\n",
       "    <tr>\n",
       "      <th>2</th>\n",
       "      <td>3.0</td>\n",
       "      <td>74369.0</td>\n",
       "      <td>30313.0</td>\n",
       "      <td>14101.0</td>\n",
       "      <td>2350.0</td>\n",
       "      <td>5170.0</td>\n",
       "      <td>1227.0</td>\n",
       "      <td>15389.0</td>\n",
       "      <td>11461.0</td>\n",
       "      <td>28556.0</td>\n",
       "      <td>...</td>\n",
       "      <td>1164.0</td>\n",
       "      <td>20067.0</td>\n",
       "      <td>10951.0</td>\n",
       "      <td>8508.0</td>\n",
       "      <td>608.0</td>\n",
       "      <td>25020.0</td>\n",
       "      <td>13564.0</td>\n",
       "      <td>9946.0</td>\n",
       "      <td>1511.0</td>\n",
       "      <td>POLYGON ((654630.085 4012057.890, 654673.566 4...</td>\n",
       "    </tr>\n",
       "    <tr>\n",
       "      <th>3</th>\n",
       "      <td>4.0</td>\n",
       "      <td>73454.0</td>\n",
       "      <td>40970.0</td>\n",
       "      <td>11375.0</td>\n",
       "      <td>2165.0</td>\n",
       "      <td>7260.0</td>\n",
       "      <td>1494.0</td>\n",
       "      <td>6364.0</td>\n",
       "      <td>10796.0</td>\n",
       "      <td>16338.0</td>\n",
       "      <td>...</td>\n",
       "      <td>1446.0</td>\n",
       "      <td>26402.0</td>\n",
       "      <td>12045.0</td>\n",
       "      <td>13659.0</td>\n",
       "      <td>688.0</td>\n",
       "      <td>30402.0</td>\n",
       "      <td>13544.0</td>\n",
       "      <td>15014.0</td>\n",
       "      <td>1854.0</td>\n",
       "      <td>POLYGON ((649700.581 4014687.856, 649717.797 4...</td>\n",
       "    </tr>\n",
       "    <tr>\n",
       "      <th>4</th>\n",
       "      <td>5.0</td>\n",
       "      <td>74210.0</td>\n",
       "      <td>37497.0</td>\n",
       "      <td>10292.0</td>\n",
       "      <td>1792.0</td>\n",
       "      <td>13856.0</td>\n",
       "      <td>1335.0</td>\n",
       "      <td>5972.0</td>\n",
       "      <td>9515.0</td>\n",
       "      <td>14666.0</td>\n",
       "      <td>...</td>\n",
       "      <td>1194.0</td>\n",
       "      <td>23339.0</td>\n",
       "      <td>12272.0</td>\n",
       "      <td>10477.0</td>\n",
       "      <td>591.0</td>\n",
       "      <td>28569.0</td>\n",
       "      <td>14852.0</td>\n",
       "      <td>12025.0</td>\n",
       "      <td>1688.0</td>\n",
       "      <td>POLYGON ((651491.876 4002894.924, 651523.283 4...</td>\n",
       "    </tr>\n",
       "  </tbody>\n",
       "</table>\n",
       "<p>5 rows × 33 columns</p>\n",
       "</div>"
      ],
      "text/plain": [
       "   DISTRICTNO   ADJPOP  TAWHITEALN  TABLACKCMB  TAAIANCMB  TAASIANCMB  \\\n",
       "0         1.0  74334.0     32160.0     15828.0     1929.0      9274.0   \n",
       "1         2.0  74292.0     45074.0      6466.0     1282.0     14164.0   \n",
       "2         3.0  74369.0     30313.0     14101.0     2350.0      5170.0   \n",
       "3         4.0  73454.0     40970.0     11375.0     2165.0      7260.0   \n",
       "4         5.0  74210.0     37497.0     10292.0     1792.0     13856.0   \n",
       "\n",
       "   TANHOPICMB  TAOTHERALN  TA2RACE  TAHISPANIC  ...  AG18_OTH  SOS18_TOTA  \\\n",
       "0      1839.0      9131.0  11693.0     20399.0  ...    1208.0     24031.0   \n",
       "1      1011.0      3327.0   8614.0     10249.0  ...    1276.0     28713.0   \n",
       "2      1227.0     15389.0  11461.0     28556.0  ...    1164.0     20067.0   \n",
       "3      1494.0      6364.0  10796.0     16338.0  ...    1446.0     26402.0   \n",
       "4      1335.0      5972.0   9515.0     14666.0  ...    1194.0     23339.0   \n",
       "\n",
       "   SOS18_DEM  SOS18_REP  SOS18_OTH  PRES16_TOT  PRES16_DEM  PRES16_REP  \\\n",
       "0    13067.0    10317.0      652.0     28146.0     14970.0     11458.0   \n",
       "1    12862.0    15195.0      657.0     33041.0     15293.0     16025.0   \n",
       "2    10951.0     8508.0      608.0     25020.0     13564.0      9946.0   \n",
       "3    12045.0    13659.0      688.0     30402.0     13544.0     15014.0   \n",
       "4    12272.0    10477.0      591.0     28569.0     14852.0     12025.0   \n",
       "\n",
       "   PRES16_OTH                                           geometry  \n",
       "0      1714.0  POLYGON ((658899.403 4022527.501, 658939.707 4...  \n",
       "1      1723.0  POLYGON ((646995.466 4003125.221, 647093.555 4...  \n",
       "2      1511.0  POLYGON ((654630.085 4012057.890, 654673.566 4...  \n",
       "3      1854.0  POLYGON ((649700.581 4014687.856, 649717.797 4...  \n",
       "4      1688.0  POLYGON ((651491.876 4002894.924, 651523.283 4...  \n",
       "\n",
       "[5 rows x 33 columns]"
      ]
     },
     "execution_count": 51,
     "metadata": {},
     "output_type": "execute_result"
    }
   ],
   "source": [
    "hdist.head()"
   ]
  },
  {
   "cell_type": "code",
   "execution_count": 52,
   "metadata": {},
   "outputs": [
    {
     "name": "stderr",
     "output_type": "stream",
     "text": [
      "100%|██████████████████████████████████████████| 42/42 [00:00<00:00, 410.95it/s]\n",
      "100%|██████████████████████████████████████████| 42/42 [00:00<00:00, 709.33it/s]\n",
      "100%|███████████████████████████████████████████| 42/42 [00:00<00:00, 75.08it/s]\n"
     ]
    }
   ],
   "source": [
    "election_df = add_district(hdist, \"HDIST\", election_df, \"DISTRICTNO\")"
   ]
  },
  {
   "cell_type": "code",
   "execution_count": 53,
   "metadata": {},
   "outputs": [
    {
     "data": {
      "text/plain": [
       "Index(['2MOREVAP', 'AMINVAP', 'ASIANVAP', 'ATG18D', 'ATG18O', 'ATG18R', 'BVAP',\n",
       "       'CON18D', 'CON18O', 'CON18R', 'COUNTY', 'COUNTYFP', 'GOV18D', 'GOV18O',\n",
       "       'GOV18R', 'HISP', 'HVAP', 'H_2MORE', 'H_AMIN', 'H_ASIAN', 'H_BLACK',\n",
       "       'H_NHPI', 'H_OTHER', 'H_WHITE', 'LTG18D', 'LTG18O', 'LTG18R', 'NAME',\n",
       "       'NHPIVAP', 'NH_2MORE', 'NH_AMIN', 'NH_ASIAN', 'NH_BLACK', 'NH_NHPI',\n",
       "       'NH_OTHER', 'NH_WHITE', 'OTHERVAP', 'PRE16D', 'PRE16O', 'PRE16R',\n",
       "       'PRE20D', 'PRE20O', 'PRE20R', 'SOS18D', 'SOS18O', 'SOS18R', 'STATEFP',\n",
       "       'TOTPOP', 'TRE18D', 'TRE18O', 'TRE18R', 'USS16D', 'USS16O', 'USS16R',\n",
       "       'USS18D', 'USS18O', 'USS18R', 'VAP', 'VTDST', 'WVAP', 'geometry', 'CD',\n",
       "       'SEND', 'HDIST'],\n",
       "      dtype='object')"
      ]
     },
     "execution_count": 53,
     "metadata": {},
     "output_type": "execute_result"
    }
   ],
   "source": [
    "election_df.columns"
   ]
  },
  {
   "cell_type": "markdown",
   "metadata": {},
   "source": [
    "### Put the base precinct year after the precinct information column"
   ]
  },
  {
   "cell_type": "code",
   "execution_count": 55,
   "metadata": {},
   "outputs": [],
   "source": [
    "base_columns = {}\n",
    "if 'COUNTYFP' + year not in election_df.columns:\n",
    "    base_columns = {\n",
    "        'STATEFP':'STATEFP'+year,\n",
    "        'COUNTYFP':'COUNTYFP'+year,\n",
    "        'COUNTY':'COUNTY'+year,\n",
    "        'VTDST':'VTDST'+year,\n",
    "        'NAME':'NAME'+year}\n",
    "election_df.rename(columns=base_columns, inplace = True)"
   ]
  },
  {
   "cell_type": "code",
   "execution_count": 56,
   "metadata": {},
   "outputs": [
    {
     "data": {
      "text/plain": [
       "Index(['2MOREVAP', 'AMINVAP', 'ASIANVAP', 'ATG18D', 'ATG18O', 'ATG18R', 'BVAP',\n",
       "       'CON18D', 'CON18O', 'CON18R', 'COUNTY20', 'COUNTYFP20', 'GOV18D',\n",
       "       'GOV18O', 'GOV18R', 'HISP', 'HVAP', 'H_2MORE', 'H_AMIN', 'H_ASIAN',\n",
       "       'H_BLACK', 'H_NHPI', 'H_OTHER', 'H_WHITE', 'LTG18D', 'LTG18O', 'LTG18R',\n",
       "       'NAME20', 'NHPIVAP', 'NH_2MORE', 'NH_AMIN', 'NH_ASIAN', 'NH_BLACK',\n",
       "       'NH_NHPI', 'NH_OTHER', 'NH_WHITE', 'OTHERVAP', 'PRE16D', 'PRE16O',\n",
       "       'PRE16R', 'PRE20D', 'PRE20O', 'PRE20R', 'SOS18D', 'SOS18O', 'SOS18R',\n",
       "       'STATEFP20', 'TOTPOP', 'TRE18D', 'TRE18O', 'TRE18R', 'USS16D', 'USS16O',\n",
       "       'USS16R', 'USS18D', 'USS18O', 'USS18R', 'VAP', 'VTDST20', 'WVAP',\n",
       "       'geometry', 'CD', 'SEND', 'HDIST'],\n",
       "      dtype='object')"
      ]
     },
     "execution_count": 56,
     "metadata": {},
     "output_type": "execute_result"
    }
   ],
   "source": [
    "election_df.columns"
   ]
  },
  {
   "cell_type": "code",
   "execution_count": 57,
   "metadata": {},
   "outputs": [],
   "source": [
    "# reorder the columns\n",
    "fixed_columns = [\n",
    "    'STATEFP'+year,\n",
    "    'COUNTYFP'+year,\n",
    "    'COUNTY'+year,\n",
    "    'VTDST'+year,\n",
    "    'NAME'+year,\n",
    "    'CD',\n",
    "    'SEND',\n",
    "    'HDIST',\n",
    "    'TOTPOP',\n",
    "    'NH_2MORE',\n",
    "    'NH_AMIN',\n",
    "    'NH_ASIAN',\n",
    "    'NH_BLACK',\n",
    "    'NH_NHPI',\n",
    "    'NH_OTHER',\n",
    "    'NH_WHITE',\n",
    "    'HISP',\n",
    "    'H_AMIN',\n",
    "    'H_ASIAN',\n",
    "    'H_BLACK',\n",
    "    'H_NHPI',\n",
    "    'H_OTHER',\n",
    "    'H_WHITE',\n",
    "    'H_2MORE',\n",
    "    'VAP',\n",
    "    'HVAP',\n",
    "    'WVAP',\n",
    "    'BVAP',\n",
    "    'AMINVAP',\n",
    "    'ASIANVAP',\n",
    "    'NHPIVAP',\n",
    "    'OTHERVAP',\n",
    "    '2MOREVAP']\n",
    "\n",
    "election_columns = [col for col in election_df.columns if col not in fixed_columns]\n",
    "final_col = fixed_columns + election_columns\n",
    "election_df = election_df[final_col]"
   ]
  },
  {
   "cell_type": "code",
   "execution_count": 58,
   "metadata": {},
   "outputs": [],
   "source": [
    "import os\n",
    "\n",
    "# store the result in directory \"il\"\n",
    "directory = \"./{}\".format(state_ab)\n",
    "if not os.path.exists(directory):\n",
    "    os.makedirs(directory)\n",
    "\n",
    "shapefile_path = \"./{}/{}.shp\".format(state_ab, state_ab)\n",
    "geojson_path = './{}/{}.geojson'.format(state_ab, state_ab)\n",
    "json_path = \"./{}.json\".format(state_ab, state_ab)\n",
    "\n",
    "# Check if the shapefile or geojson file already exists\n",
    "if os.path.exists(shapefile_path):\n",
    "    os.remove(shapefile_path)\n",
    "if os.path.exists(geojson_path):\n",
    "    os.remove(geojson_path)\n",
    "\n",
    "election_df.to_file(shapefile_path)\n",
    "election_df.to_file(geojson_path, driver='GeoJSON')\n",
    "\n",
    "# Only do once to build json and read from file when generating ensembles\n",
    "graph = Graph.from_file(shapefile_path, ignore_errors=True)\n",
    "graph.to_json(json_path)"
   ]
  },
  {
   "cell_type": "code",
   "execution_count": 59,
   "metadata": {},
   "outputs": [
    {
     "data": {
      "text/plain": [
       "<Axes: >"
      ]
     },
     "execution_count": 59,
     "metadata": {},
     "output_type": "execute_result"
    },
    {
     "data": {
      "image/png": "[encoded data removed]",
      "text/plain": [
       "<Figure size 640x480 with 1 Axes>"
      ]
     },
     "metadata": {},
     "output_type": "display_data"
    }
   ],
   "source": [
    "shapefile_path = \"./{}/{}.shp\".format(state_ab, state_ab)\n",
    "shape=gpd.read_file(shapefile_path)\n",
    "shape.plot()"
   ]
  },
  {
   "cell_type": "code",
   "execution_count": 60,
   "metadata": {},
   "outputs": [
    {
     "data": {
      "text/plain": [
       "64"
      ]
     },
     "execution_count": 60,
     "metadata": {},
     "output_type": "execute_result"
    }
   ],
   "source": [
    "len(election_df.columns)"
   ]
  }
 ],
 "metadata": {
  "kernelspec": {
   "display_name": "gerry",
   "language": "python",
   "name": "gerry"
  },
  "language_info": {
   "codemirror_mode": {
    "name": "ipython",
    "version": 3
   },
   "file_extension": ".py",
   "mimetype": "text/x-python",
   "name": "python",
   "nbconvert_exporter": "python",
   "pygments_lexer": "ipython3",
   "version": "3.11.4"
  }
 },
 "nbformat": 4,
 "nbformat_minor": 4
}
